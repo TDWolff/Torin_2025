{
 "cells": [
  {
   "cell_type": "markdown",
   "metadata": {},
   "source": [
    "---\n",
    "layout: post\n",
    "title: Arrays\n",
    "categories: [AP CSA]\n",
    "---"
   ]
  },
  {
   "cell_type": "code",
   "execution_count": 14,
   "metadata": {},
   "outputs": [
    {
     "name": "stdout",
     "output_type": "stream",
     "text": [
      "[Apple, Orange, Banana]\n",
      "Apple\n",
      "Banana\n",
      "Orange\n"
     ]
    }
   ],
   "source": [
    "ArrayList<String> al = new ArrayList<String>();\n",
    "\n",
    "al.add(\"Apple\");\n",
    "al.add(\"Orange\");\n",
    "al.add(\"Banana\");\n",
    "\n",
    "System.out.print(al);\n",
    "System.out.println();\n",
    "\n",
    "for (int i = 0; i < al.size() - 1; i++) {\n",
    "    for (int j = 0; j < al.size() - i - 1; j++) {\n",
    "        if (al.get(j).charAt(0) > al.get(j + 1).charAt(0)) {\n",
    "            String temp = al.get(j);\n",
    "            al.set(j, al.get(j + 1));\n",
    "            al.set(j + 1, temp);\n",
    "        }\n",
    "    }\n",
    "}\n",
    "\n",
    "for (String fruit : al) {\n",
    "    System.out.println(fruit);\n",
    "}"
   ]
  },
  {
   "cell_type": "markdown",
   "metadata": {},
   "source": [
    "-------\n",
    "# Homework\n",
    "-------\n",
    "Write a program that randomly fills in 0s and 1s into an n-by-n matrix, prints the matrix, and finds the rows and columns with the most 1s. (Hint: Use two ArrayLists to store the row and column indices with the most 1s.)"
   ]
  },
  {
   "cell_type": "code",
   "execution_count": 156,
   "metadata": {},
   "outputs": [
    {
     "name": "stdout",
     "output_type": "stream",
     "text": [
      "[1, 0, 1, 1]\n",
      "[1, 1, 0, 1]\n",
      "[1, 0, 1, 0]\n",
      "[0, 0, 0, 1]\n",
      "Row with the most 1's: Row 0 with 3 ones.\n"
     ]
    }
   ],
   "source": [
    "import java.math.*;\n",
    "\n",
    "\n",
    "int[] getRanNum(int reps) {\n",
    "    Random rand = new Random();\n",
    "    int[] result = new int[reps];\n",
    "    \n",
    "    for (int rep = 0; rep < reps; rep++) {\n",
    "        double num = rand.nextDouble();\n",
    "        if (num > 0.5) {\n",
    "            result[rep] = 1;\n",
    "        } else {\n",
    "            result[rep] = 0;\n",
    "        }\n",
    "    }\n",
    "\n",
    "    return result;\n",
    "}\n",
    "\n",
    "\n",
    "int times = 4;\n",
    "int[][] array = new int[times][times];\n",
    "\n",
    "for (int time = 0; time < times; time++) {\n",
    "    int[] index = getRanNum(times);\n",
    "    array[time] = index;\n",
    "    System.out.println(Arrays.toString(array[time]));\n",
    "}\n",
    "\n",
    "int rows = array.length;\n",
    "int cols = array[0].length;\n",
    "\n",
    "int maxOnes = 0;\n",
    "int rowWithOnes = 0;\n",
    "for (int row = 0; row < rows; row++)\n",
    "{\n",
    "    int onesCount = 0;\n",
    "    for (int col = 0; col < cols; col++)\n",
    "    {\n",
    "        if (array[row][col] == 1) {\n",
    "            onesCount++;\n",
    "        }\n",
    "    }\n",
    "    if (onesCount > maxOnes) {\n",
    "        maxOnes = onesCount;\n",
    "        rowWithOnes = row;\n",
    "    }\n",
    "}\n",
    "\n",
    "System.out.println(\"Row with the most 1's: Row \" + rowWithOnes + \" with \" + maxOnes + \" ones.\");\n"
   ]
  }
 ],
 "metadata": {
  "kernelspec": {
   "display_name": "Java",
   "language": "java",
   "name": "java"
  },
  "language_info": {
   "codemirror_mode": "java",
   "file_extension": ".jshell",
   "mimetype": "text/x-java-source",
   "name": "java",
   "pygments_lexer": "java",
   "version": "17.0.6+10-LTS"
  }
 },
 "nbformat": 4,
 "nbformat_minor": 2
}
