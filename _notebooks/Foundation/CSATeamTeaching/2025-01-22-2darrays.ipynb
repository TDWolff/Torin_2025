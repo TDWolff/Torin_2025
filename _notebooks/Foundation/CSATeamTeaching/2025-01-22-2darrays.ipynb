{
 "cells": [
  {
   "cell_type": "markdown",
   "metadata": {},
   "source": [
    "---\n",
    "layout: post\n",
    "title: 2d Arrays\n",
    "categories: {AP CSA}\n",
    "---"
   ]
  },
  {
   "cell_type": "code",
   "execution_count": 3,
   "metadata": {
    "vscode": {
     "languageId": "java"
    }
   },
   "outputs": [
    {
     "name": "stdout",
     "output_type": "stream",
     "text": [
      "1 2 3 \n",
      "4 5 6 \n",
      "7 8 9 \n",
      "Total Sum: 45\n",
      "1 4 7 \n",
      "2 5 8 \n",
      "3 6 9 \n"
     ]
    }
   ],
   "source": [
    "int{}{} array = {\n",
    "    {1, 2, 3},\n",
    "    {4, 5, 6},\n",
    "    {7, 8, 9}\n",
    "};\n",
    "\n",
    "for (int row = 0; row < array.length; row++) {\n",
    "    for (int col = 0; col < array{row}.length; col++) {\n",
    "        System.out.print(array{row}{col} + \" \");\n",
    "    }\n",
    "    System.out.println();\n",
    "}\n",
    "\n",
    "int sum = 0;\n",
    "for (int row = 0; row < array.length; row++) {\n",
    "    for (int col = 0; col < array{row}.length; col++) {\n",
    "        sum += array{row}{col};\n",
    "    }\n",
    "}\n",
    "System.out.println(\"Total Sum: \" + sum);\n",
    "\n",
    "int{}{} transposed = new int{array{0}.length}{array.length};\n",
    "for (int row = 0; row < array.length; row++) {\n",
    "    for (int col = 0; col < array{row}.length; col++) {\n",
    "        transposed{col}{row} = array{row}{col};\n",
    "    }\n",
    "}\n",
    "\n",
    "// Printing the transposed array\n",
    "for (int row = 0; row < transposed.length; row++) {\n",
    "    for (int col = 0; col < transposed{row}.length; col++) {\n",
    "        System.out.print(transposed{row}{col} + \" \");\n",
    "    }\n",
    "    System.out.println();\n",
    "}"
   ]
  },
  {
   "cell_type": "markdown",
   "metadata": {},
   "source": [
    "Popcorn hack 1"
   ]
  },
  {
   "cell_type": "code",
   "execution_count": null,
   "metadata": {
    "vscode": {
     "languageId": "java"
    }
   },
   "outputs": [
    {
     "name": "stdout",
     "output_type": "stream",
     "text": [
      "92\n",
      "70\n",
      "93\n",
      "100\n"
     ]
    }
   ],
   "source": [
    "int[][] scores = {\n",
    "    {100, 85, 95, 96},\n",
    "    {98, 100, 100, 95},\n",
    "    {92, 100, 98, 100},\n",
    "    {100, 100, 97, 99},\n",
    "    {100, 100, 100, 70},\n",
    "    {100, 100, 99, 98},\n",
    "    {100, 94, 100, 93}\n",
    "};\n",
    "\n",
    "int score1 = scores[2][0];\n",
    "int score2 = scores[4][3];\n",
    "int score3 = scores[6][3];\n",
    "System.out.println(score1);\n",
    "System.out.println(score2);\n",
    "System.out.println(score3);\n",
    "scores[6][3] = 100;\n",
    "int score3 = scores[6][3];\n",
    "System.out.println(score3);\n"
   ]
  },
  {
   "cell_type": "markdown",
   "metadata": {},
   "source": [
    "------\n",
    "HW Latin Square\n",
    "------"
   ]
  },
  {
   "cell_type": "code",
   "execution_count": null,
   "metadata": {
    "vscode": {
     "languageId": "java"
    }
   },
   "outputs": [
    {
     "name": "stdout",
     "output_type": "stream",
     "text": [
      "true\n"
     ]
    }
   ],
   "source": [
    "int[][] square = {\n",
    "    {1, 3, 2},\n",
    "    {2, 1, 3},\n",
    "    {3, 2, 1}\n",
    "};\n",
    "\n",
    "public static boolean isLatin(int[][] square) {\n",
    "    int n = square.length;\n",
    "\n",
    "    for (int row = 0; row < n; row++) {\n",
    "        boolean[] seen = new boolean[n + 1];\n",
    "        for (int col = 0; col < n; col++) {\n",
    "            int value = square[row][col];\n",
    "            if (value < 1 || value > n || seen[value]) {\n",
    "                return false;\n",
    "            }\n",
    "            seen[value] = true;\n",
    "        }\n",
    "    }\n",
    "\n",
    "    for (int col = 0; col < n; col++) {\n",
    "        boolean[] seen = new boolean[n + 1];\n",
    "        for (int row = 0; row < n; row++) {\n",
    "            int value = square[row][col];\n",
    "            if (value < 1 || value > n || seen[value]) {\n",
    "                return false;\n",
    "            }\n",
    "            seen[value] = true;\n",
    "        }\n",
    "    }\n",
    "    return true;\n",
    "}\n",
    "\n",
    "System.out.println(isLatin(square));"
   ]
  }
 ],
 "metadata": {
  "kernelspec": {
   "display_name": "Java",
   "language": "java",
   "name": "java"
  },
  "language_info": {
   "codemirror_mode": "java",
   "file_extension": ".jshell",
   "mimetype": "text/x-java-source",
   "name": "Java",
   "pygments_lexer": "java",
   "version": "17.0.6+10-LTS"
  }
 },
 "nbformat": 4,
 "nbformat_minor": 2
}
