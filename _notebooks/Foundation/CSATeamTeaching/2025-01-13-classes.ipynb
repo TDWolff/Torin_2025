{
 "cells": [
  {
   "cell_type": "markdown",
   "metadata": {},
   "source": [
    "---\n",
    "layout: post\n",
    "title: Classes\n",
    "categories: [AP CSA]\n",
    "---"
   ]
  },
  {
   "cell_type": "code",
   "execution_count": 7,
   "metadata": {
    "vscode": {
     "languageId": "java"
    }
   },
   "outputs": [],
   "source": [
    "public class Cat {\n",
    "    private String sound;\n",
    "\n",
    "    public Cat(String noise) {\n",
    "        this.sound = noise;\n",
    "    }\n",
    "\n",
    "    public static String reverse(String str) {\n",
    "        char[] chars = str.toCharArray();\n",
    "        int left = 0;\n",
    "        int right = chars.length - 1;\n",
    "\n",
    "        while (left < right) {\n",
    "            char temp = chars[left];\n",
    "            chars[left] = chars[right];\n",
    "            chars[right] = temp;\n",
    "            left++;\n",
    "            right--;\n",
    "        }\n",
    "\n",
    "        return new String(chars);\n",
    "    }\n",
    "\n",
    "    public String makeQuiteNoise() {\n",
    "        if (this.sound == null || this.sound.isEmpty()) {\n",
    "            return null;\n",
    "        } else {\n",
    "            String lowercaseStr = this.sound.toLowerCase();\n",
    "            return lowercaseStr;\n",
    "        }\n",
    "    }\n",
    "\n",
    "    public String makeReverseNoise() {\n",
    "        if (this.sound == null || this.sound.isEmpty()) {\n",
    "            return null;\n",
    "        } else {\n",
    "            String reversed = reverse(sound);\n",
    "            return reversed;\n",
    "        }\n",
    "    }\n",
    "}\n"
   ]
  },
  {
   "cell_type": "markdown",
   "metadata": {},
   "source": [
    "-------\n",
    "# **HW Section**\n",
    "-------"
   ]
  },
  {
   "cell_type": "code",
   "execution_count": 14,
   "metadata": {
    "vscode": {
     "languageId": "java"
    }
   },
   "outputs": [
    {
     "name": "stdout",
     "output_type": "stream",
     "text": [
      "7 times 3\n",
      "7 times 4\n"
     ]
    }
   ],
   "source": [
    "public interface StudyPractice {\n",
    "    String getProblem();\n",
    "\n",
    "    void nextProblem();\n",
    "}\n",
    "\n",
    "public class MultProblems implements StudyPractice {\n",
    "    public int first;\n",
    "    public int second;\n",
    "\n",
    "    public MultProblems(int first, int second) {\n",
    "        this.first = first;\n",
    "        this.second = second;\n",
    "    }\n",
    "\n",
    "    @Override\n",
    "    public String getProblem() {\n",
    "        return first + \" times \" + second;\n",
    "    }\n",
    "\n",
    "    @Override\n",
    "    public void nextProblem() {\n",
    "        this.second = second + 1;\n",
    "    }\n",
    "\n",
    "\n",
    "}\n",
    "\n",
    "StudyPractice p1 = new MultProblems(7, 3);\n",
    "System.out.println(p1.getProblem());\n",
    "p1.nextProblem();\n",
    "System.out.println(p1.getProblem());"
   ]
  }
 ],
 "metadata": {
  "kernelspec": {
   "display_name": "Java",
   "language": "java",
   "name": "java"
  },
  "language_info": {
   "codemirror_mode": "java",
   "file_extension": ".jshell",
   "mimetype": "text/x-java-source",
   "name": "Java",
   "pygments_lexer": "java",
   "version": "17.0.6+10-LTS"
  }
 },
 "nbformat": 4,
 "nbformat_minor": 2
}
