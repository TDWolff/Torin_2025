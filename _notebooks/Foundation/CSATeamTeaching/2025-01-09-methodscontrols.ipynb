{
 "cells": [
  {
   "cell_type": "markdown",
   "metadata": {},
   "source": [
    "---\n",
    "layout: post\n",
    "title: Recursion - Unit 10\n",
    "description:  Team teach notes for unit 10\n",
    "comments: true\n",
    "---"
   ]
  },
  {
   "cell_type": "markdown",
   "metadata": {},
   "source": [
    "# **Important Notes:**\n",
    "#### **What Is a Java Method?**\n",
    "- A method in Java is a reusable block of code that performs a specific task.\n",
    "- Consists of an access modifier (e.g., public or private), a return type (e.g., void if it doesn’t return a value), a method name, optional parameters enclosed in parentheses, and a method body enclosed in curly braces.\n",
    "\n",
    "##### **Part (a):**\n",
    "- this question usually requires you to write a certain method that fits the given test cases and \"rules\" provided by the problem \n",
    "- rules + test cases may be provided as a table or as example method calls\n",
    "- a **precondition**/**postcondition** may be provided by the problem. \n",
    "- a boilerplate segment containing a method declaration is also given\n",
    "\n",
    "##### **Point Deductions:**\n",
    "![image.png](https://i.ibb.co/yp2Nvt3/Image-1-7-25-at-12-33-PM.jpg)\n",
    "\n",
    "##### **Part (b):**\n",
    "- this part is similar to part (a) and typically asks you to write a method that satisfies the given set of rules.\n",
    "- it may build upon the method created in part (a) (when this is done, it allows you to assume that the method in part (a) works as intended)\n"
   ]
  },
  {
   "cell_type": "code",
   "execution_count": 150,
   "metadata": {},
   "outputs": [
    {
     "name": "stdout",
     "output_type": "stream",
     "text": [
      "Day: 1\n",
      "2125 grams left in feeder\n",
      "Day: 2\n",
      "Bear ate all the food. 0 grams left in feeder.\n"
     ]
    },
    {
     "data": {
      "text/plain": [
       "2"
      ]
     },
     "execution_count": 150,
     "metadata": {},
     "output_type": "execute_result"
    }
   ],
   "source": [
    "public class Feeder {\n",
    "    public int currentFood; // Amount of food in grams in the feeder\n",
    "\n",
    "    public Feeder(int initialFood) {\n",
    "        currentFood = initialFood;\n",
    "    }\n",
    "\n",
    "    /**\n",
    "     * Simulates one day with numBirds birds or possibly a bear at the feeder.\n",
    "     * Precondition: numBirds > 0\n",
    "     */\n",
    "    public void simulateOneDay(int numBirds) {\n",
    "        double conditions = (Math.random() * 100);\n",
    "        int totalFoodEaten = 0;\n",
    "\n",
    "        if(conditions >= 5.0)\n",
    "        {\n",
    "            for (int birds = 1; birds <= numBirds; birds++) {\n",
    "                int foodEaten = (int) (Math.random() * (50 - 10 + 1)) + 10;\n",
    "                totalFoodEaten += foodEaten;\n",
    "            }\n",
    "            if (totalFoodEaten >= currentFood)\n",
    "            {\n",
    "                System.out.println(\"All food in feeder eaten!\");\n",
    "                currentFood = 0;\n",
    "            }\n",
    "            else\n",
    "            {\n",
    "                currentFood = currentFood - totalFoodEaten;\n",
    "                System.out.println(currentFood + \" grams left in feeder\");\n",
    "            }\n",
    "        }\n",
    "        else\n",
    "        {\n",
    "            currentFood = 0;\n",
    "            System.out.println(\"Bear ate all the food. \" + currentFood + \" grams left in feeder.\");\n",
    "        }\n",
    "    }\n",
    "\n",
    "    /**\n",
    "     * Simulates numDays of activity at the feeder with numBirds birds.\n",
    "     * Returns the number of days on which food was found in the feeder.\n",
    "     * Precondition: numBirds > 0, numDays > 0\n",
    "     */\n",
    "    public int simulateManyDays(int numBirds, int numDays) {\n",
    "        int daysWithFood = 0;\n",
    "        for (int days = 1; days <= numDays; days++)\n",
    "        {\n",
    "            if (currentFood > 0)\n",
    "            {\n",
    "                System.out.println(\"Day: \"+ days);\n",
    "                simulateOneDay(numBirds);\n",
    "                daysWithFood++;\n",
    "            }\n",
    "            else\n",
    "            {\n",
    "                break;\n",
    "            }\n",
    "        }\n",
    "        return daysWithFood;\n",
    "\n",
    "    }\n",
    "}\n",
    "\n",
    "Feeder feeder = new Feeder(2400);\n",
    "// feeder.simulateOneDay(12); // Runs one day simulation with 12 as number of birds in simulation.\n",
    "feeder.simulateManyDays(10, 5); // Runs multiple days with 10 being number of birds and 5 being days in simulation."
   ]
  }
 ],
 "metadata": {
  "kernelspec": {
   "display_name": "Java",
   "language": "java",
   "name": "java"
  },
  "language_info": {
   "codemirror_mode": "java",
   "file_extension": ".jshell",
   "mimetype": "text/x-java-source",
   "name": "java",
   "pygments_lexer": "java",
   "version": "17.0.6+10-LTS"
  }
 },
 "nbformat": 4,
 "nbformat_minor": 2
}
