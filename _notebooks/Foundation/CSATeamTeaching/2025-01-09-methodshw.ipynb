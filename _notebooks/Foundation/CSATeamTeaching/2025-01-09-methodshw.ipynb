{
 "cells": [
  {
   "cell_type": "code",
   "execution_count": 16,
   "metadata": {
    "vscode": {
     "languageId": "java"
    }
   },
   "outputs": [
    {
     "name": "stdout",
     "output_type": "stream",
     "text": [
      "true\n"
     ]
    }
   ],
   "source": [
    "public class SolveMaze {\n",
    "    public static boolean solveMaze(char[][] maze, int startX, int startY) {\n",
    "        if (startX < 0 || startX >= maze.length || startY < 0 || startY >= maze[0].length) {\n",
    "            return false;\n",
    "        }\n",
    "\n",
    "        if (maze[startX][startY] == 'E') {\n",
    "            return true;\n",
    "        }\n",
    "\n",
    "        if (maze[startX][startY] != ' ') {\n",
    "            return false;\n",
    "        }\n",
    "\n",
    "        maze[startX][startY] = '#';\n",
    "\n",
    "        boolean foundExit = solveMaze(maze, startX - 1, startY) ||\n",
    "                            solveMaze(maze, startX + 1, startY) ||\n",
    "                            solveMaze(maze, startX, startY - 1) ||\n",
    "                            solveMaze(maze, startX, startY + 1);\n",
    "\n",
    "        maze[startX][startY] = ' ';\n",
    "\n",
    "        return foundExit;\n",
    "    }\n",
    "}\n",
    "\n",
    "char[][] maze = {\n",
    "    {'#', '#', '#', '#', '#'},\n",
    "    {'#', 'E', ' ', ' ', ' '},\n",
    "    {'#', ' ', ' ', ' ', '#'},\n",
    "    {'#', ' ', ' ', ' ', '#'},\n",
    "    {'#', '#', '#', '#', '#'}\n",
    "};\n",
    "\n",
    "System.out.println(SolveMaze.solveMaze(maze, 1, 4));\n"
   ]
  }
 ],
 "metadata": {
  "kernelspec": {
   "display_name": "Java",
   "language": "java",
   "name": "java"
  },
  "language_info": {
   "codemirror_mode": "java",
   "file_extension": ".jshell",
   "mimetype": "text/x-java-source",
   "name": "Java",
   "pygments_lexer": "java",
   "version": "17.0.6+10-LTS"
  }
 },
 "nbformat": 4,
 "nbformat_minor": 2
}
