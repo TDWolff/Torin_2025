{
 "cells": [
  {
   "cell_type": "markdown",
   "metadata": {},
   "source": [
    "---\n",
    "layout: post\n",
    "title: 2d arrays\n",
    "categories: [AP CSA]\n",
    "---"
   ]
  },
  {
   "cell_type": "markdown",
   "metadata": {},
   "source": [
    "Popcorn hack 1"
   ]
  },
  {
   "cell_type": "code",
   "execution_count": null,
   "metadata": {},
   "outputs": [
    {
     "name": "stdout",
     "output_type": "stream",
     "text": [
      "92\n",
      "70\n",
      "93\n",
      "100\n"
     ]
    }
   ],
   "source": [
    "int[][] scores = {\n",
    "    {100, 85, 95, 96},\n",
    "    {98, 100, 100, 95},\n",
    "    {92, 100, 98, 100},\n",
    "    {100, 100, 97, 99},\n",
    "    {100, 100, 100, 70},\n",
    "    {100, 100, 99, 98},\n",
    "    {100, 94, 100, 93}\n",
    "};\n",
    "\n",
    "int score1 = scores[2][0];\n",
    "int score2 = scores[4][3];\n",
    "int score3 = scores[6][3];\n",
    "System.out.println(score1);\n",
    "System.out.println(score2);\n",
    "System.out.println(score3);\n",
    "scores[6][3] = 100;\n",
    "int score3 = scores[6][3];\n",
    "System.out.println(score3);\n"
   ]
  },
  {
   "cell_type": "markdown",
   "metadata": {},
   "source": [
    "------\n",
    "HW Latin Square\n",
    "------"
   ]
  },
  {
   "cell_type": "code",
   "execution_count": null,
   "metadata": {},
   "outputs": [
    {
     "name": "stdout",
     "output_type": "stream",
     "text": [
      "true\n"
     ]
    }
   ],
   "source": [
    "int[][] square = {\n",
    "    {1, 3, 2},\n",
    "    {2, 1, 3},\n",
    "    {3, 2, 1}\n",
    "};\n",
    "\n",
    "public static boolean isLatin(int[][] square) {\n",
    "    int n = square.length;\n",
    "\n",
    "    for (int row = 0; row < n; row++) {\n",
    "        boolean[] seen = new boolean[n + 1];\n",
    "        for (int col = 0; col < n; col++) {\n",
    "            int value = square[row][col];\n",
    "            if (value < 1 || value > n || seen[value]) {\n",
    "                return false;\n",
    "            }\n",
    "            seen[value] = true;\n",
    "        }\n",
    "    }\n",
    "\n",
    "    for (int col = 0; col < n; col++) {\n",
    "        boolean[] seen = new boolean[n + 1];\n",
    "        for (int row = 0; row < n; row++) {\n",
    "            int value = square[row][col];\n",
    "            if (value < 1 || value > n || seen[value]) {\n",
    "                return false;\n",
    "            }\n",
    "            seen[value] = true;\n",
    "        }\n",
    "    }\n",
    "    return true;\n",
    "}\n",
    "\n",
    "System.out.println(isLatin(square));"
   ]
  }
 ],
 "metadata": {
  "kernelspec": {
   "display_name": "Java",
   "language": "java",
   "name": "java"
  },
  "language_info": {
   "codemirror_mode": "java",
   "file_extension": ".jshell",
   "mimetype": "text/x-java-source",
   "name": "java",
   "pygments_lexer": "java",
   "version": "17.0.6+10-LTS"
  }
 },
 "nbformat": 4,
 "nbformat_minor": 2
}
