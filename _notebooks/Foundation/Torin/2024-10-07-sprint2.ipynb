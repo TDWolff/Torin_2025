{
 "cells": [
  {
   "cell_type": "markdown",
   "metadata": {},
   "source": [
    "---\n",
    "layout: post\n",
    "title: CSA Sprint 2\n",
    "description:  Sprint 2 stuff\n",
    "type: issues \n",
    "comments: true\n",
    "---"
   ]
  },
  {
   "cell_type": "markdown",
   "metadata": {},
   "source": [
    "Overall Checklist\n",
    "| **Assignment**             | **Points**    | **Grade** | **Evidence** |\n",
    "|----------------------------|---------------|-----------|--------------|\n",
    "| Pull Request (Integration) | 2             | 1.65         | we all submitted a day late but we had a good team teach, we missed stuff in the beginning but we got there eventually.             | \n",
    "| Relevancy Checklist (Peer) | 2             | TBD         |              | \n",
    "| Lesson (Group)             | 1             | 0.91       | Our team had a good teach and we included things to make sure students were participating            | \n",
    "| Homework, Popcorn Hacks    | 1 x 8         | 8         | i made sure all were submitted before the due date and were thouroughly completed, also see [combined learning](https://tdwolff.github.io/Torin_2025/unitcombined)             | \n",
    "| Individual Contribution    | 1             | 0.89       | I was the person in charge of the hw hacks and some of the popcorn hacks, i contributed to a lot of the work.            | \n",
    "| Personal Notebooks / Blogs | 1             | 1         | all my blogs are easily found and can be seen in my github. [Here](https://tdwolff.github.io/Torin_2025/blogs/#:~:text=Unit3hacks_ipynb_2_,Sep%2025%2C%202024)             | \n",
    "| Total                      | 15            | TBD      |              | "
   ]
  },
  {
   "cell_type": "markdown",
   "metadata": {},
   "source": [
    "![Object-Oriented Programming](../../../images/pizza.png)"
   ]
  },
  {
   "cell_type": "markdown",
   "metadata": {},
   "source": [
    "Work Habits\n",
    "| **Skill**                  | **Points**    | **Grade** | **Evidence** |\n",
    "|----------------------------|---------------|-----------|--------------|\n",
    "| Work Habits (Analytics)    |   1           |     0.83      |       im usually present but sometimes i get focused too much on one subject and dont pay attention to my teammates       |\n",
    "| Team Planning (Issue)      |   1           |     0.89      |       I contributed a lot to the team teach and i felt like i was helpful to the team and its goals       |\n",
    "| Presentation Memories      |   1           |     0.9      |       i was clear and was able to understand what i was teaching which made my section of the presentation understandable for all       |\n",
    "| Grading and Feedback       |   1           |     0.89      |      i was a contributing factor in the team teach grading and was helpful to my team        |\n",
    "| Beyond Perfunctory         |   1           |     0.84      |       I made a new script that went in depth on converting a 2d image into greyscale and i put a lot of work into it through many api and java forums.       | \n",
    "| Total                      |   5           |      0.87     |              |"
   ]
  },
  {
   "cell_type": "markdown",
   "metadata": {},
   "source": [
    "![Object-Oriented Programming](../../../images/classmeme.png)"
   ]
  },
  {
   "cell_type": "markdown",
   "metadata": {},
   "source": [
    "Peer Graded\n",
    "| **Assignment**          | **Weightage** | **Grade** | **Comments** |\n",
    "|-------------------------|---------------|-----------|--------------|\n",
    "| College Board Coverage  | 20            | TBD       | TBD          |\n",
    "| Java Examples           | 30            | TBD       | TBD          |\n",
    "| Popcorn Hack Usage      | 10            | TBD       | TBD          |\n",
    "| Homework                | 10            | TBD       | TBD          |\n",
    "| Grading Plan            | 10            | TBD       | TBD          |\n",
    "| Original an Creative    | 10            | TBD       | TBD          |\n",
    "| Total                  | **90**        |           |              |"
   ]
  },
  {
   "cell_type": "markdown",
   "metadata": {},
   "source": [
    "![Object-Oriented Programming](../../../images/boolmeme.png)"
   ]
  }
 ],
 "metadata": {
  "language_info": {
   "name": "python"
  }
 },
 "nbformat": 4,
 "nbformat_minor": 2
}
