{
 "cells": [
  {
   "cell_type": "markdown",
   "metadata": {},
   "source": [
    "---\n",
    "layout: post\n",
    "title: CSA Merge Sorting\n",
    "description: Stuff for Merge sorting\n",
    "type: issues \n",
    "comments: true\n",
    "permalink: /csa-mergesort/\n",
    "---"
   ]
  },
  {
   "cell_type": "markdown",
   "metadata": {},
   "source": [
    "Algorithm to repeatedly divide the array into sub arrays and microsort each.\n",
    "pros.\n",
    "really efficient\n",
    "stable\n",
    "    when taking an array with elements of the same value, your sorting them with the same order.\n",
    "o^n LogN\n",
    "    fast for large and small arrays\n",
    "\n",
    "\n",
    "same time complexity as quick sort, but not as good for bubble sort for simpler arrays. \n",
    "\n",
    "merge sort process\n",
    "1. divide the array into two halves\n",
    "2. sort each half\n",
    "3. merge the two halves back together\n",
    "4. repeat until the array is sorted\n",
    "\n",
    "odd number array for merge sort\n",
    "    left side has one more element than right side\n",
    "\n",
    "popcorn hack\n",
    "write a java program to merge two already sorted arrays into one array\n"
   ]
  },
  {
   "cell_type": "code",
   "execution_count": 3,
   "metadata": {
    "vscode": {
     "languageId": "java"
    }
   },
   "outputs": [
    {
     "name": "stdout",
     "output_type": "stream",
     "text": [
      "1 2 3 4 5 6 7 8 \n"
     ]
    }
   ],
   "source": [
    "public class MergeSortExample {\n",
    "    public static void main(String[] args) {\n",
    "        int[] array1 = {1, 3, 5, 7};\n",
    "        int[] array2 = {2, 4, 6, 8};\n",
    "\n",
    "        int[] mergedArray = mergeSorting(array1, array2);\n",
    "        printArray(mergedArray);\n",
    "    }\n",
    "\n",
    "    public static int[] mergeSorting(int[] array1, int[] array2) {\n",
    "        int[] mergedArray = new int[array1.length + array2.length];\n",
    "        int i = 0, j = 0, k = 0;\n",
    "\n",
    "        while (i < array1.length && j < array2.length) {\n",
    "            if (array1[i] <= array2[j]) {\n",
    "                mergedArray[k++] = array1[i++];\n",
    "            } else {\n",
    "                mergedArray[k++] = array2[j++];\n",
    "            }\n",
    "        }\n",
    "\n",
    "        while (i < array1.length) {\n",
    "            mergedArray[k++] = array1[i++];\n",
    "        }\n",
    "\n",
    "        while (j < array2.length) {\n",
    "            mergedArray[k++] = array2[j++];\n",
    "        }\n",
    "\n",
    "        return mergedArray;\n",
    "    }\n",
    "\n",
    "    public static void printArray(int[] array) {\n",
    "        for (int i : array) {\n",
    "            System.out.print(i + \" \");\n",
    "        }\n",
    "        System.out.println();\n",
    "    }\n",
    "}\n",
    "\n",
    "MergeSortExample.main(new String[]{});"
   ]
  },
  {
   "cell_type": "markdown",
   "metadata": {},
   "source": [
    "---\n",
    "# HW\n",
    "\n",
    "Q: What is the time complexity of merge sort in the best, worst, and average cases? Explain why.\n",
    "A: the best case is O(n log n) because it doesnt increase to big over large periods of time\n",
    "\n",
    "Q: Compare merge sort with bubble sort and quicksort. When might merge sort be preferred?\n",
    "A: merge sort is better for larger arrays while quicksort is faster in smaller arrays.\n",
    "\n",
    "Q: Why is merge sort considered a “divide and conquer” algorithm?\n",
    "A: because it divides the array into smaller sub arrays and sorts them before merging them back together.\n",
    "\n",
    "Q: Is merge sort stable? Why does this matter?\n",
    "A: yes, because it keeps the order of the elements with the same value.\n",
    "\n",
    "Instructions\n",
    "Task: Write a function in Java that implements merge sort.\n",
    "\n",
    "Bonus task: Modify your merge sort function to count how many comparisons are made during sorting."
   ]
  },
  {
   "cell_type": "code",
   "execution_count": 8,
   "metadata": {
    "vscode": {
     "languageId": "java"
    }
   },
   "outputs": [
    {
     "name": "stdout",
     "output_type": "stream",
     "text": [
      "1 2 3 4 5 6 7 8 \n",
      "Total comparisons made: 7\n"
     ]
    }
   ],
   "source": [
    "public class MergeSort {\n",
    "    private int comparisonCount = 0; // Variable to count comparisons\n",
    "\n",
    "    public static void main(String[] args) {\n",
    "        int[] array1 = {1, 3, 5, 7};\n",
    "        int[] array2 = {2, 4, 6, 8};\n",
    "\n",
    "        MergeSort mergeSort = new MergeSort();\n",
    "        int[] mergedArray = mergeSort.mergeSorting(array1, array2);\n",
    "        printArray(mergedArray);\n",
    "        System.out.println(\"Total comparisons made: \" + mergeSort.comparisonCount);\n",
    "    }\n",
    "\n",
    "    public int[] mergeSorting(int[] array1, int[] array2) {\n",
    "        int[] mergedArray = new int[array1.length + array2.length];\n",
    "        int i = 0, j = 0, k = 0;\n",
    "\n",
    "        while (i < array1.length && j < array2.length) {\n",
    "            comparisonCount++; // Counting each comparison\n",
    "            if (array1[i] <= array2[j]) {\n",
    "                mergedArray[k++] = array1[i++];\n",
    "            } else {\n",
    "                mergedArray[k++] = array2[j++];\n",
    "            }\n",
    "        }\n",
    "\n",
    "        while (i < array1.length) {\n",
    "            mergedArray[k++] = array1[i++];\n",
    "        }\n",
    "\n",
    "        while (j < array2.length) {\n",
    "            mergedArray[k++] = array2[j++];\n",
    "        }\n",
    "        return mergedArray;\n",
    "    }\n",
    "\n",
    "    public static void printArray(int[] array) {\n",
    "        for (int num : array) {\n",
    "            System.out.print(num + \" \");\n",
    "        }\n",
    "        System.out.println();\n",
    "    }\n",
    "}\n",
    "\n",
    "MergeSort.main(new String[]{});"
   ]
  }
 ],
 "metadata": {
  "kernelspec": {
   "display_name": "Java",
   "language": "java",
   "name": "java"
  },
  "language_info": {
   "codemirror_mode": "java",
   "file_extension": ".jshell",
   "mimetype": "text/x-java-source",
   "name": "Java",
   "pygments_lexer": "java",
   "version": "17.0.6+10-LTS"
  }
 },
 "nbformat": 4,
 "nbformat_minor": 2
}
