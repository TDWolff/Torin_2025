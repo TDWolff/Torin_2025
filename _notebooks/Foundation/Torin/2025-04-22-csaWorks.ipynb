{
 "cells": [
  {
   "cell_type": "raw",
   "id": "e033fd14",
   "metadata": {
    "vscode": {
     "languageId": "raw"
    }
   },
   "source": [
    "---\n",
    "layout: post\n",
    "title: CSA Work Blog\n",
    "description: work blog\n",
    "type: issues \n",
    "comments: true\n",
    "permalink: /csa-work-blog/\n",
    "---"
   ]
  },
  {
   "cell_type": "markdown",
   "id": "3ff06f4c",
   "metadata": {},
   "source": []
  }
 ],
 "metadata": {
  "language_info": {
   "name": "python"
  }
 },
 "nbformat": 4,
 "nbformat_minor": 5
}
