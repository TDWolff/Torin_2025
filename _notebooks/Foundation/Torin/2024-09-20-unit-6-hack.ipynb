{
 "cells": [
  {
   "cell_type": "markdown",
   "metadata": {},
   "source": [
    "---\n",
    "layout: post\n",
    "title: CSA Unit 6 - Hacks\n",
    "description:  Hacks for unit 6 team teach\n",
    "type: issues \n",
    "comments: true\n",
    "---"
   ]
  },
  {
   "cell_type": "code",
   "execution_count": 1,
   "metadata": {},
   "outputs": [
    {
     "name": "stdout",
     "output_type": "stream",
     "text": [
      "11\n",
      "21\n",
      "31\n",
      "41\n",
      "51\n",
      "[10, 20, 30, 40, 50]\n"
     ]
    }
   ],
   "source": [
    "int[] numbers = {10, 20, 30, 40, 50};\n",
    "for (int number : numbers) {\n",
    "    number += 1;\n",
    "    System.out.println(number);\n",
    "};\n",
    "\n",
    "System.out.println(Arrays.toString(numbers))"
   ]
  },
  {
   "cell_type": "markdown",
   "metadata": {},
   "source": [
    "Popcorn Hack 1:"
   ]
  },
  {
   "cell_type": "code",
   "execution_count": 6,
   "metadata": {},
   "outputs": [
    {
     "name": "stdout",
     "output_type": "stream",
     "text": [
      "Java\n",
      "Python\n",
      "Markdown\n",
      "C++\n",
      "Go\n",
      "JavaScript\n",
      "HTML\n"
     ]
    }
   ],
   "source": [
    "String[] languages = {\"Java\", \"Python\", \"Markdown\", \"C++\", \"Go\", \"JavaScript\", \"HTML\"};\n",
    "\n",
    "for (String language : languages) {\n",
    "    System.out.println(language);\n",
    "};"
   ]
  },
  {
   "cell_type": "markdown",
   "metadata": {
    "vscode": {
     "languageId": "raw"
    }
   },
   "source": [
    "Notes:"
   ]
  },
  {
   "cell_type": "code",
   "execution_count": 7,
   "metadata": {},
   "outputs": [
    {
     "name": "stdout",
     "output_type": "stream",
     "text": [
      "Maximum value: 12\n",
      "Minimum value: -1\n"
     ]
    }
   ],
   "source": [
    "public class MaxMinInArray {\n",
    "\n",
    "    public static void findMaxAndMin(int[] array) {\n",
    "       \n",
    "        if (array == null || array.length == 0) {\n",
    "            System.out.println(\"Array is empty\");\n",
    "            return;\n",
    "        }\n",
    "\n",
    "        int max = array[0];\n",
    "        int min = array[0];\n",
    "\n",
    "        \n",
    "        for (int i = 1; i < array.length; i++) {\n",
    "            \n",
    "            if (array[i] > max) {\n",
    "                max = array[i];  \n",
    "            }\n",
    "            if (array[i] < min) {\n",
    "                min = array[i];  \n",
    "            }\n",
    "        }\n",
    "        // The loop starts from the second element of the array (i = 1) and compares it with the first element (i = 0).\n",
    "\n",
    "        System.out.println(\"Maximum value: \" + max);\n",
    "        System.out.println(\"Minimum value: \" + min);\n",
    "    }\n",
    "\n",
    "    public static void main(String[] args) {\n",
    "     \n",
    "        int[] array = {3, 5, 7, 2, 8, -1, 4, 10, 12};\n",
    "\n",
    "        \n",
    "        findMaxAndMin(array);\n",
    "    }\n",
    "}\n",
    "MaxMinInArray.main(null)"
   ]
  },
  {
   "cell_type": "markdown",
   "metadata": {},
   "source": [
    "Popcorn Hack 2:"
   ]
  },
  {
   "cell_type": "code",
   "execution_count": 16,
   "metadata": {},
   "outputs": [
    {
     "name": "stdout",
     "output_type": "stream",
     "text": [
      "Greater\n",
      "Greater\n",
      "Less\n",
      "Greater\n",
      "Less\n",
      "Greater\n",
      "Less\n",
      "Greater\n",
      "Maximum value: 12\n",
      "Minimum value: -1\n"
     ]
    }
   ],
   "source": [
    "public class MaxMinInArray {\n",
    "\n",
    "    public static void findMaxAndMin(int[] array) {\n",
    "       \n",
    "        if (array == null || array.length == 0) {\n",
    "            System.out.println(\"Array is empty\");\n",
    "            return;\n",
    "        }\n",
    "\n",
    "        int max = array[0];\n",
    "        int min = array[0];\n",
    "\n",
    "        \n",
    "        for (int i = 1; i < array.length; i++) {\n",
    "            if (array[i] > max) {\n",
    "                max = array[i];\n",
    "            }\n",
    "            if (array[i] < min) {\n",
    "                min = array[i];  \n",
    "            }\n",
    "            if (array[i] > array[i-1]){\n",
    "                System.out.println(\"Greater\");\n",
    "            }\n",
    "            else if (array[i] < array[i-1]){\n",
    "                System.out.println(\"Less\");\n",
    "            }\n",
    "            else{\n",
    "                System.out.println(\"Equal\");\n",
    "            }\n",
    "        }\n",
    "\n",
    "        System.out.println(\"Maximum value: \" + max);\n",
    "        System.out.println(\"Minimum value: \" + min);\n",
    "    }\n",
    "\n",
    "    public static void main(String[] args) {\n",
    "     \n",
    "        int[] array = {3, 5, 7, 2, 8, -1, 4, 0, 12};\n",
    "\n",
    "        \n",
    "        findMaxAndMin(array);\n",
    "    }\n",
    "}\n",
    "MaxMinInArray.main(null)"
   ]
  },
  {
   "cell_type": "code",
   "execution_count": 35,
   "metadata": {},
   "outputs": [
    {
     "name": "stdout",
     "output_type": "stream",
     "text": [
      "beta gamma delta alpha "
     ]
    }
   ],
   "source": [
    "public class WordShifter {  \n",
    "    public static void main(String[] args) {\n",
    "        String[] words = {\"alpha\", \"beta\", \"gamma\", \"delta\"};\n",
    "        int shiftWord = 1;\n",
    "        for (int count = 0; count < shiftWord; count++) {\n",
    "            String temp = words[0];\n",
    "            for (int index = 0; index < words.length - 1; index++) {\n",
    "                words[index] = words[index + 1];\n",
    "            }\n",
    "            words[words.length - 1] = temp;\n",
    "        }\n",
    "        for (String word : words) {\n",
    "            System.out.print(word + \" \");\n",
    "        }\n",
    "    }\n",
    "}\n",
    "WordShifter.main(null)"
   ]
  },
  {
   "cell_type": "markdown",
   "metadata": {},
   "source": []
  },
  {
   "cell_type": "code",
   "execution_count": 28,
   "metadata": {},
   "outputs": [
    {
     "name": "stdout",
     "output_type": "stream",
     "text": [
      "delta alpha beta gamma "
     ]
    }
   ],
   "source": [
    "public class WordShifter {  \n",
    "    public static void main(String[] args) {\n",
    "        String[] words = {\"alpha\", \"beta\", \"gamma\", \"delta\"};\n",
    "        int shiftWord = 1;\n",
    "        for (int count = 0; count < shiftWord; count++) {\n",
    "            String temp = words[words.length - 1];\n",
    "            for (int index = words.length - 1; index > 0; index--) {\n",
    "                words[index] = words[index - 1];\n",
    "            }\n",
    "            words[0] = temp;\n",
    "        }\n",
    "        for (String word : words) {\n",
    "            System.out.print(word + \" \");\n",
    "        }\n",
    "    }\n",
    "}\n",
    "WordShifter.main(null);"
   ]
  },
  {
   "cell_type": "markdown",
   "metadata": {},
   "source": [
    "Question: How would you find the index of the last element of the array, if you didn’t know how many elements there were in the array?\n",
    "\n",
    "Answer: You use the length property and subtract 1 from it. so array[array.length - 1] would give you the last element of the array."
   ]
  },
  {
   "cell_type": "code",
   "execution_count": 37,
   "metadata": {},
   "outputs": [
    {
     "name": "stdout",
     "output_type": "stream",
     "text": [
      "[0, 0, 0, 0, 0]\n"
     ]
    }
   ],
   "source": [
    "int [] array1 = new int[5];\n",
    "System.out.println(Arrays.toString(array1));"
   ]
  },
  {
   "cell_type": "code",
   "execution_count": 42,
   "metadata": {},
   "outputs": [
    {
     "name": "stdout",
     "output_type": "stream",
     "text": [
      "[1, 2, 3, 4, 5]\n"
     ]
    }
   ],
   "source": [
    "int [] array2 = new int[] {1, 2, 3, 4, 5};\n",
    "System.out.println(Arrays.toString(array2));"
   ]
  },
  {
   "cell_type": "code",
   "execution_count": 50,
   "metadata": {},
   "outputs": [
    {
     "name": "stdout",
     "output_type": "stream",
     "text": [
      "[1, 2, 3, 4, 5]\n"
     ]
    },
    {
     "name": "stdout",
     "output_type": "stream",
     "text": [
      "[1, 2, 3, 4, 6]\n"
     ]
    }
   ],
   "source": [
    "int [] array = new int[] {1, 2, 3, 4, 5};\n",
    "System.out.println(Arrays.toString(array));\n",
    "\n",
    "array[array.length - 1] = 6;\n",
    "System.out.println(Arrays.toString(array));"
   ]
  },
  {
   "cell_type": "code",
   "execution_count": 72,
   "metadata": {},
   "outputs": [
    {
     "name": "stdout",
     "output_type": "stream",
     "text": [
      "[San Diego, Sacramento, San Francisco, Sacramento]\n"
     ]
    }
   ],
   "source": [
    "import java.util.Arrays;\n",
    "\n",
    "String[] city_array = new String[] {\"San Diego\", \"Los Angeles\", \"San Francisco\", \"Sacramento\"};\n",
    "\n",
    "city_array[1] = \"Sacramento\";\n",
    "System.out.println(Arrays.toString(city_array));"
   ]
  },
  {
   "cell_type": "code",
   "execution_count": 71,
   "metadata": {},
   "outputs": [
    {
     "name": "stdout",
     "output_type": "stream",
     "text": [
      "[San Diego, Los Angeles, San Francisco, Sacramento]\n"
     ]
    }
   ],
   "source": [
    "import java.util.Arrays;\n",
    "\n",
    "String[] city_array = new String[] {\"San Diego\", \"Los Angeles\", \"San Francisco\", \"Sacramento\"};\n",
    "System.out.println(Arrays.toString(city_array));"
   ]
  },
  {
   "cell_type": "code",
   "execution_count": 70,
   "metadata": {},
   "outputs": [
    {
     "name": "stdout",
     "output_type": "stream",
     "text": [
      "San Diego\n"
     ]
    }
   ],
   "source": [
    "String[] city_array = new String[] {\"San Diego\", \"Los Angeles\", \"San Francisco\", \"Sacramento\"};\n",
    "System.out.println(city_array[0]);"
   ]
  },
  {
   "cell_type": "code",
   "execution_count": 69,
   "metadata": {},
   "outputs": [
    {
     "name": "stdout",
     "output_type": "stream",
     "text": [
      "San Francisco\n"
     ]
    }
   ],
   "source": [
    "String[] city_array = new String[] {\"San Diego\", \"Los Angeles\", \"San Francisco\", \"Sacramento\"};\n",
    "System.out.println(city_array[2]);"
   ]
  },
  {
   "cell_type": "code",
   "execution_count": 68,
   "metadata": {},
   "outputs": [
    {
     "name": "stdout",
     "output_type": "stream",
     "text": [
      "[San Diego, Los Angeles, San Francisco, San Jose]\n"
     ]
    }
   ],
   "source": [
    "String[] city_array = new String[] {\"San Diego\", \"Los Angeles\", \"San Francisco\", \"Sacramento\"};\n",
    "city_array[3] = \"San Jose\";\n",
    "\n",
    "System.out.println(Arrays.toString(city_array));"
   ]
  },
  {
   "cell_type": "code",
   "execution_count": 67,
   "metadata": {},
   "outputs": [
    {
     "name": "stdout",
     "output_type": "stream",
     "text": [
      "[San Diego, Los Angeles, San Francisco, Sacramento]\n"
     ]
    }
   ],
   "source": [
    "String[] city_array = new String[] {\"San Diego\", \"Los Angeles\", \"San Francisco\", \"Sacramento\"};\n",
    "\n",
    "System.out.println(Arrays.toString(city_array));"
   ]
  },
  {
   "cell_type": "code",
   "execution_count": 73,
   "metadata": {},
   "outputs": [
    {
     "name": "stdout",
     "output_type": "stream",
     "text": [
      "1\n",
      "3\n",
      "5\n"
     ]
    }
   ],
   "source": [
    "public class oddIndexOnly {\n",
    "    public static void main(String[] args) {\n",
    "        int[] listOfNumbers = new int[] {1, 2, 3, 4, 5};\n",
    "        for (int index=0; index<listOfNumbers.length; index+=2) {\n",
    "            System.out.println(listOfNumbers[index]);\n",
    "        }\n",
    "    }\n",
    "}\n",
    "oddIndexOnly.main(null);"
   ]
  },
  {
   "cell_type": "code",
   "execution_count": 74,
   "metadata": {},
   "outputs": [
    {
     "name": "stdout",
     "output_type": "stream",
     "text": [
      "2\n",
      "4\n"
     ]
    }
   ],
   "source": [
    "public class evenIndexOnly {\n",
    "    public static void main(String[] args) {\n",
    "        int[] listOfNumbers = new int[] {1, 2, 3, 4, 5};\n",
    "        for (int index=1; index<listOfNumbers.length; index+=2) {\n",
    "            System.out.println(listOfNumbers[index]);\n",
    "        }\n",
    "    }\n",
    "}\n",
    "evenIndexOnly.main(null);"
   ]
  },
  {
   "cell_type": "code",
   "execution_count": 80,
   "metadata": {},
   "outputs": [
    {
     "name": "stdout",
     "output_type": "stream",
     "text": [
      "6\n"
     ]
    }
   ],
   "source": [
    "public static int sumOfEvenNumbers(int[] arr) {\n",
    "    int sum = 0;\n",
    "    for (int index = 0; index < arr.length; index++) {\n",
    "        if (arr[index] % 2 == 0) {\n",
    "            sum += arr[index];\n",
    "        }\n",
    "    }\n",
    "    return sum;\n",
    "}\n",
    "\n",
    "int[] arr = {1, 2, 3, 4, 5};\n",
    "System.out.println(sumOfEvenNumbers(arr)); // Output: 6"
   ]
  },
  {
   "cell_type": "code",
   "execution_count": 81,
   "metadata": {},
   "outputs": [
    {
     "name": "stdout",
     "output_type": "stream",
     "text": [
      "2\n",
      "4\n",
      "6\n"
     ]
    }
   ],
   "source": [
    "int[] array = {1, 2, 3, 4, 5, 6, 7};\n",
    "int index = 0;\n",
    "\n",
    "for (int num : array) {\n",
    "    if (index % 2 != 0) {  // Check if index is odd\n",
    "        System.out.println(num);\n",
    "    }\n",
    "    index++;\n",
    "}"
   ]
  },
  {
   "cell_type": "code",
   "execution_count": 83,
   "metadata": {},
   "outputs": [
    {
     "name": "stdout",
     "output_type": "stream",
     "text": [
      "3\n"
     ]
    }
   ],
   "source": [
    "public static int countOccurrences(int[] arr, int target) {\n",
    "    int count = 0;\n",
    "    for (int num : arr) {\n",
    "        if (num == target) {\n",
    "            count++;\n",
    "        }\n",
    "    }\n",
    "    return count;\n",
    "}\n",
    "\n",
    "// Example usage:\n",
    "int[] arr = {3, 5, 3, 3, 7, 5};\n",
    "int target = 3;\n",
    "System.out.println(countOccurrences(arr, target)); // Output: 3"
   ]
  },
  {
   "cell_type": "code",
   "execution_count": 84,
   "metadata": {},
   "outputs": [
    {
     "name": "stdout",
     "output_type": "stream",
     "text": [
      "[90, 95, 80, 80, 62]\n"
     ]
    }
   ],
   "source": [
    "public static void main(String[] args) {    \n",
    "    int[] arr = new int[5];\n",
    "    int position = 0;\n",
    "    while (position < arr.length) {\n",
    "        arr[position] = (int) (Math.random() * 100);\n",
    "        position ++;\n",
    "    }\n",
    "    System.out.println(Arrays.toString(arr));\n",
    "}\n",
    "main(null);"
   ]
  },
  {
   "cell_type": "code",
   "execution_count": 86,
   "metadata": {},
   "outputs": [
    {
     "name": "stdout",
     "output_type": "stream",
     "text": [
      "2\n"
     ]
    }
   ],
   "source": [
    "// Write a method that traverses an array of integers and returns the index of the first negative number. If there are no negative numbers, return -1. Use a while loop.\n",
    "public static int firstNegativeIndex(int[] arr) {\n",
    "    int index = 0;\n",
    "    while (index < arr.length) {\n",
    "        if (arr[index] < 0) {\n",
    "            return index;\n",
    "        }\n",
    "        index++;\n",
    "    }\n",
    "    return -1;\n",
    "}\n",
    "\n",
    "// Example usage:\n",
    "int[] arr = {4, 7, -2, 5};// indexes are 0, 1, 2, 3 with correspondant as 4, 7, -2, 5\n",
    "System.out.println(firstNegativeIndex(arr)); // Output: 2"
   ]
  },
  {
   "cell_type": "code",
   "execution_count": 89,
   "metadata": {},
   "outputs": [],
   "source": [
    "int[] list = new int[5];\n",
    "for (int index =0; index <= list.length; index++) {\n",
    "    list[index] = (int) (Math.random() * 10);\n",
    "}\n",
    "\n",
    "// output\n",
    "// ---------------------------------------------------------------------------\n",
    "// java.lang.ArrayIndexOutOfBoundsException: Index 5 out of bounds for length 5\n",
    "// \tat .(#141:1)"
   ]
  },
  {
   "cell_type": "code",
   "execution_count": null,
   "metadata": {},
   "outputs": [],
   "source": [
    "String[] list = {\"red\", \"yellow\", \"blue\"};\n",
    "for (int i = 0; i < list.length; i++) {\n",
    "    System.out.print(list[i].length() + \"_\");\n",
    "}\n",
    "// What is displayed after the code is executed?\n",
    "\n",
    "// A. red_yellow_blue\n",
    "\n",
    "// B. 3_3_3_\n",
    "\n",
    "// C. 3_6_4_\n",
    "\n",
    "// D. 3_3_\n",
    "\n",
    "// E. 3_6_\n",
    "\n",
    "// Answer: (C)"
   ]
  },
  {
   "cell_type": "markdown",
   "metadata": {},
   "source": [
    "Consider the following code segment which is intended to display every other element in `numbers`, beginning with the first element:\n",
    "int[] numbers = {13, 33, 3, -3, -333};\n",
    "for (/*missing*/) {\n",
    "    System.out.print(numbers[i]);\n",
    "}\n",
    "Which of the following could replace /*missing code*/ to make the code work as intended?\n",
    "\n",
    "(A) int i = 0; i < numbers. length 12; it+\n",
    "\n",
    "(B) int i = 1; i ‹ numbers. length; i++\n",
    "\n",
    "(C) int i = 1; i < numbers.length; i+=2\n",
    "\n",
    "(D) int i = 0; i ‹ numbers.length; i++\n",
    "\n",
    "(E) int i = 0; i < numbers.length; i+=2\n",
    "\n",
    "Answer (E)"
   ]
  },
  {
   "cell_type": "markdown",
   "metadata": {},
   "source": []
  },
  {
   "cell_type": "markdown",
   "metadata": {},
   "source": [
    "Consider the method which is intended to reverse the order of the elements in `arr`.\n",
    "public static void reverseArray (double [] arr) {\n",
    "    for (int i = 0; i < arr.length; i++) {\n",
    "        double temp = arr [i];\n",
    "        arr[i] = arr[arr.length-1-i];\n",
    "        arr[arr.length-1-i] = temp;\n",
    "    }\n",
    "}\n",
    "Which of the following would fix the method so it works as intended?\n",
    "\n",
    "(A) Change the loop condition to:\n",
    "\n",
    "i < arr. length - 1\n",
    "(B) Change the loop condition to:\n",
    "\n",
    "i < arr.length/2\n",
    "(C) Change the loop condition to:\n",
    "\n",
    "i < arr.length/2 - 1\n",
    "(D) Change lines 6 and 7 to:\n",
    "\n",
    "arr[1] = arr[arr.length-1];\n",
    "\n",
    "arr [arr.length-i] = temp;\n",
    "(E) Change the loop body to:\n",
    "\n",
    "arr[1] = arr[arr.length-1-1];\n",
    "\n",
    "arr [arr.length-1-1] = arr[i];\n",
    "\n",
    "Answer: (B)"
   ]
  },
  {
   "cell_type": "code",
   "execution_count": 91,
   "metadata": {},
   "outputs": [],
   "source": [
    "// Problem Statement: Given an array of integers, write a method to find the second largest unique element in the array. If the array has fewer than two distinct elements, return -1.\n",
    "\n",
    "public static int findSecondLargest(int[] arr) {\n",
    "    // find the second largest inside the array\n",
    "    \n",
    "\n",
    "\n",
    "// Example usage:\n",
    "public static void main(String[] args) {\n",
    "    int[] arr1 = {3, 1, 4, 1, 5, 9, 2, 6};\n",
    "    System.out.println(findSecondLargest(arr1)); // Output: 6\n",
    "\n",
    "    int[] arr2 = {10, 10, 10, 10};\n",
    "    System.out.println(findSecondLargest(arr2)); // Output: -1\n",
    "}"
   ]
  },
  {
   "cell_type": "code",
   "execution_count": null,
   "metadata": {},
   "outputs": [],
   "source": [
    "int[] list = new int[5];\n",
    "for (int index =0; index <= list.length; index++) {\n",
    "    list[index] = (int) (Math.random() * 10);\n",
    "}\n",
    "\n",
    "// output\n",
    "// ---------------------------------------------------------------------------\n",
    "// java.lang.ArrayIndexOutOfBoundsException: Index 5 out of bounds for length 5\n",
    "// \tat .(#141:1)"
   ]
  },
  {
   "cell_type": "markdown",
   "metadata": {},
   "source": [
    "Popcorn Hack:\n",
    "Create four new INITIALIZED arrays, with int, string, double, and boolean types respectively. Print out the second element of each array to see the default values."
   ]
  },
  {
   "cell_type": "code",
   "execution_count": 92,
   "metadata": {},
   "outputs": [
    {
     "name": "stdout",
     "output_type": "stream",
     "text": [
      "0\n",
      "null\n",
      "0.0\n",
      "false\n"
     ]
    }
   ],
   "source": [
    "int[] intArray = new int[5];\n",
    "System.out.println(intArray[1]);\n",
    "\n",
    "String[] stringArray = new String[5];\n",
    "System.out.println(stringArray[1]);\n",
    "\n",
    "double[] doubleArray = new double[5];\n",
    "System.out.println(doubleArray[1]);\n",
    "\n",
    "boolean[] booleanArray = new boolean[5];\n",
    "System.out.println(booleanArray[1]);"
   ]
  },
  {
   "cell_type": "markdown",
   "metadata": {},
   "source": [
    "Unit 6.1 HW Hack"
   ]
  },
  {
   "cell_type": "markdown",
   "metadata": {},
   "source": [
    "\n",
    "\n",
    "Practice MCQs\n",
    "Question 1\n",
    "Consider the following method which is intended to return the position of find within the String referenced at the third last index of arr.\n",
    "\n",
    "```java\n",
    "public static int findThirdLast(String [] arr, String find)\n",
    "{\n",
    "return /*missing code*/;\n",
    "}\n",
    "```\n",
    "Which of the following could replace /*missing code*/ to complete the method as specified?\n",
    "A. arr[].indexOf(find)\n",
    "B. arr.indexOf(find)\n",
    "C. arr[arr.length].indexOf(find)\n",
    "D. arr[arr.length - 3].indexOf(find)\n",
    "E. arr[arr.length - 2].indexOf(find)\n",
    "\n",
    "Answer (D) Because to find the third last element, you need to subtract 3 from the length of the array.\n",
    "\n",
    "\n",
    "Question 2\n",
    "Consider the following method:\n",
    "\n",
    "\n",
    "```java\n",
    "public static int mystery(int [] arr)\n",
    "{\n",
    "return arr[1] + arr[4]/2\n",
    "}\n",
    "```\n",
    "\n",
    "The mystery method is called from another method in the same class: int[] list = {1,9,2,5,6};\n",
    "int result = mystery(list);\n",
    "\n",
    "What is stored in result after executing the above code?\n",
    "\n",
    "A. 2\n",
    "B. 12\n",
    "C. 15\n",
    "D. 9\n",
    "E. 8\n",
    "\n",
    "Answer (C) because the method returns the sum of the second element of the array and half of the fifth element of the array. So, 9 + 6/2 = 12 or index 1 which is 9 + index 4 which is 6 and then divided by 2 all added up which is 15.\n",
    "\n",
    "```java\n",
    "public static int mystery(int [] myarr)\n",
    "{\n",
    "    return myarr[1] + myarr[4]/2;\n",
    "}\n",
    "int[] list = {1,9,2,5,6};\n",
    "int result = mystery(list);\n",
    "System.out.println(result);\n",
    "```"
   ]
  },
  {
   "cell_type": "markdown",
   "metadata": {},
   "source": [
    "Unit 6.2 HW Hack"
   ]
  },
  {
   "cell_type": "markdown",
   "metadata": {},
   "source": [
    "Homework Hack\n",
    "Problem Statement: Given an array of integers, write a method to find the second largest unique element in the array. If the array has fewer than two distinct elements, return -1.\n",
    "```java\n",
    "public static int findSecondLargest(int[] arr) {\n",
    "    /*\n",
    "     * This function takes an array of integers as input and returns the second largest unique element in the array. \n",
    "     * If the array has less than 2 elements, the function should return -1.\n",
    "     */\n",
    "}\n",
    "\n",
    "// Example usage:\n",
    "public static void main(String[] args) {\n",
    "    int[] arr1 = {3, 1, 4, 1, 5, 9, 2, 6};\n",
    "    System.out.println(findSecondLargest(arr1)); // Output: 6\n",
    "\n",
    "    int[] arr2 = {10, 10, 10, 10};\n",
    "    System.out.println(findSecondLargest(arr2)); // Output: -1\n",
    "}\n",
    "```"
   ]
  },
  {
   "cell_type": "code",
   "execution_count": 102,
   "metadata": {},
   "outputs": [
    {
     "name": "stdout",
     "output_type": "stream",
     "text": [
      "6\n"
     ]
    }
   ],
   "source": [
    "public static int findSecondLargest(int[] arr) {\n",
    "    // Check if the array has less than 2 elements\n",
    "    if (arr.length < 2) {\n",
    "        return -1;\n",
    "    }\n",
    "\n",
    "    // Initialize variables to hold the largest and second largest elements\n",
    "    int largest = Integer.MIN_VALUE;\n",
    "    int secondLargest = Integer.MIN_VALUE;\n",
    "\n",
    "    // First pass to find the largest element\n",
    "    for (int i = 0; i < arr.length; i++) {\n",
    "        if (arr[i] > largest) {\n",
    "            largest = arr[i];\n",
    "        }\n",
    "    }\n",
    "\n",
    "    // Second pass to find the second largest element\n",
    "    for (int i = 0; i < arr.length; i++) {\n",
    "        if (arr[i] > secondLargest && arr[i] < largest) {\n",
    "            secondLargest = arr[i];\n",
    "        }\n",
    "    }\n",
    "\n",
    "    // If secondLargest is still Integer.MIN_VALUE, it means there was no second largest element\n",
    "    if (secondLargest == Integer.MIN_VALUE) {\n",
    "        return -1;\n",
    "    }\n",
    "\n",
    "    return secondLargest;\n",
    "}\n",
    "\n",
    "// Example usage:\n",
    "int[] arr = {3, 5, 7, 5, 6};\n",
    "int[] arr1 = {5};\n",
    "\n",
    "Boolean singleArr = false;\n",
    "\n",
    "if (singleArr) {\n",
    "    System.out.println(findSecondLargest(arr1)); // Output: -1\n",
    "} \n",
    "else {\n",
    "System.out.println(findSecondLargest(arr)); // Output: 6\n",
    "}"
   ]
  },
  {
   "cell_type": "markdown",
   "metadata": {},
   "source": [
    "Unit 6.3 HW Hack"
   ]
  },
  {
   "cell_type": "markdown",
   "metadata": {},
   "source": [
    "Add to the code below to create a average grade calculator (using an enhanced for loop)\n",
    "\n",
    "```java\n",
    "Integer[] grades = {88, 93, 55, 68, 77};\n",
    "\n",
    "Scanner userGrades = new Scanner(System.in);\n",
    "System.out.print(\"Enter a grade: \");\n",
    "int grade = Integer.parseInt(userGrades.nextLine());\n",
    "\n",
    "// Add code here to take the average\n",
    "\n",
    "grades = Arrays.copyOf(grades, grades.length + 1);\n",
    "grades[grades.length - 1] = grade;\n",
    "System.out.println(Arrays.toString(grades));\n",
    "```"
   ]
  },
  {
   "cell_type": "code",
   "execution_count": 109,
   "metadata": {},
   "outputs": [
    {
     "name": "stdout",
     "output_type": "stream",
     "text": [
      "Grades: [88, 93, 55, 68, 77]\n"
     ]
    },
    {
     "name": "stdout",
     "output_type": "stream",
     "text": [
      "Average grade: 76.2\n"
     ]
    }
   ],
   "source": [
    "Integer[] grades = {88, 93, 55, 68, 77};\n",
    "\n",
    "// Print the grades\n",
    "System.out.println(\"Grades: \" + Arrays.toString(grades));\n",
    "\n",
    "// Calculate the average using an enhanced for loop\n",
    "int sum = 0;\n",
    "for (int g : grades) {\n",
    "    sum += g;\n",
    "}\n",
    "double average = (double) sum / grades.length;\n",
    "\n",
    "System.out.println(\"Average grade: \" + average);"
   ]
  },
  {
   "cell_type": "markdown",
   "metadata": {},
   "source": [
    "Unit 6.4 HW Hack:"
   ]
  },
  {
   "cell_type": "markdown",
   "metadata": {},
   "source": [
    "HW Hack: Go through the array in reverse order and output each object\n",
    "```java\n",
    "Integer[] myArray = {0, 1, 2, 3, 4, 5};\n",
    "\n",
    "for (int i=1; count < myArray.length; i++) {\n",
    "    //Add code here\n",
    "};\n",
    "```"
   ]
  },
  {
   "cell_type": "code",
   "execution_count": 113,
   "metadata": {},
   "outputs": [
    {
     "name": "stdout",
     "output_type": "stream",
     "text": [
      "543210"
     ]
    }
   ],
   "source": [
    "Integer[] myArray = {0, 1, 2, 3, 4, 5};\n",
    "\n",
    "for (int i = 1; i <= myArray.length; i++) {\n",
    "    System.out.print(myArray[myArray.length - i]);\n",
    "}"
   ]
  },
  {
   "cell_type": "markdown",
   "metadata": {},
   "source": [
    "HW Hack: Print words while skipping every other word (\"Alpha\", \"Gamma\", \"Beta\", \"Delta\")\n",
    "```java\n",
    "public class WordShifter {  \n",
    "    public static void main(String[] args) {\n",
    "        String[] words = {\"alpha\", \"beta\", \"gamma\", \"delta\"};\n",
    "        int shiftWord = 2;\n",
    "        for (int count = 0; count < shiftWord; count++) {\n",
    "            String temp = words[0];\n",
    "            for (int index = 0; index < words.length - 1; index++) {\n",
    "                words[index] = words[index + 1];\n",
    "            }\n",
    "            words[words.length - 1] = temp;\n",
    "        }\n",
    "        for (String word : words) {\n",
    "            System.out.print(word + \" \");\n",
    "        }\n",
    "    }\n",
    "}\n",
    "WordShifter.main(null)\n",
    "```"
   ]
  },
  {
   "cell_type": "code",
   "execution_count": 116,
   "metadata": {},
   "outputs": [
    {
     "name": "stdout",
     "output_type": "stream",
     "text": [
      "beta delta "
     ]
    }
   ],
   "source": [
    "public class WordShifter {  \n",
    "    public static void main(String[] args) {\n",
    "        String[] words = {\"alpha\", \"beta\", \"gamma\", \"delta\"};\n",
    "        int shiftWord = 0;\n",
    "        for (int count = 0; count < shiftWord; count++) {\n",
    "            String temp = words[0];\n",
    "            for (int index = 0; index < words.length - 1; index++) {\n",
    "                words[index] = words[index + 1];\n",
    "            }\n",
    "            words[words.length - 1] = temp;\n",
    "        }\n",
    "        int index = 0;\n",
    "        for (String word : words) {\n",
    "            if (index % 2 != 0) {\n",
    "                System.out.print(word + \" \");\n",
    "            }\n",
    "            index++;\n",
    "        }\n",
    "    }\n",
    "}\n",
    "WordShifter.main(null)"
   ]
  },
  {
   "cell_type": "code",
   "execution_count": 123,
   "metadata": {},
   "outputs": [
    {
     "name": "stdout",
     "output_type": "stream",
     "text": [
      "Alice's grade: 85\n",
      "Charlie's grade: Student not found\n"
     ]
    }
   ],
   "source": [
    "public class GradeSearch {\n",
    "    public static String searchGrade(String[][] grades, String name) {\n",
    "                // Loop through each row in the grades array\n",
    "        for (String[] row : grades) {\n",
    "            // Check if the first element (name) matches the search name\n",
    "            if (row[0].equals(name)) {\n",
    "                // Return the second element (grade) if the name matches\n",
    "                return row[1];\n",
    "            }\n",
    "        }\n",
    "        // Return a message if the student is not found\n",
    "        return \"Student not found\";\n",
    "    }\n",
    "\n",
    "    public static void main(String[] args) {\n",
    "        // Sample 2D array with names and grades\n",
    "        String[][] grades = {\n",
    "            {\"John\", \"93\"},\n",
    "            {\"Alice\", \"85\"},\n",
    "            {\"Bob\", \"78\"},\n",
    "            {\"Eve\", \"92\"}\n",
    "        };\n",
    "\n",
    "        // Test the search function\n",
    "        String nameToSearch = \"Alice\";\n",
    "        String grade = searchGrade(grades, nameToSearch);\n",
    "        System.out.println(nameToSearch + \"'s grade: \" + grade);\n",
    "\n",
    "        nameToSearch = \"Charlie\";\n",
    "        grade = searchGrade(grades, nameToSearch);\n",
    "        System.out.println(nameToSearch + \"'s grade: \" + grade);\n",
    "    }\n",
    "}\n",
    "\n",
    "// Execute the main method to see the output\n",
    "GradeSearch.main(null);"
   ]
  }
 ],
 "metadata": {
  "kernelspec": {
   "display_name": "Java",
   "language": "java",
   "name": "java"
  },
  "language_info": {
   "codemirror_mode": "java",
   "file_extension": ".jshell",
   "mimetype": "text/x-java-source",
   "name": "java",
   "pygments_lexer": "java",
   "version": "17.0.6+10-LTS"
  }
 },
 "nbformat": 4,
 "nbformat_minor": 2
}
