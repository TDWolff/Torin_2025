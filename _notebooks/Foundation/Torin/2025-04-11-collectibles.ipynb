{
 "cells": [
  {
   "cell_type": "raw",
   "id": "6ef7605a",
   "metadata": {
    "vscode": {
     "languageId": "raw"
    }
   },
   "source": [
    "---\n",
    "layout: post\n",
    "title: CSA Collectibles\n",
    "description: collectibles\n",
    "type: issues \n",
    "comments: true\n",
    "permalink: /csa-collectibles/\n",
    "---"
   ]
  },
  {
   "cell_type": "markdown",
   "id": "daeee0db",
   "metadata": {},
   "source": [
    "# Collectibles\n",
    "\n",
    "Java collections are reusable data structures that allow devs to store, retreive, and manipulate groups of objects efficiently. (e.g, ArrayList, HashSet, HashMap)\n",
    "\n",
    "## Why use Collectibles?\n",
    "- They provide a way to store and manage groups of objects.\n",
    "- They offer built-in methods for common operations like searching, sorting, and filtering.\n",
    "- They can improve code readability and maintainability.\n",
    "\n",
    "## Types:\n",
    "1. List: An ordered collection that allows duplicates. (e.g., ArrayList, LinkedList)\n",
    "2. Set: An unordered collection that does not allow duplicates. (e.g., HashSet, TreeSet)\n",
    "3. Map: A collection of key-value pairs. (e.g., HashMap, TreeMap)\n",
    "4. Queue: A collection that follows the FIFO (First In First Out) principle. (e.g., LinkedList, PriorityQueue)\n",
    "5. Stack: A collection that follows the LIFO (Last In First Out) principle. (e.g., Stack, ArrayDeque)\n",
    "6. Deque: A double-ended queue that allows insertion and removal from both ends. (e.g., ArrayDeque, LinkedList)\n",
    "\n",
    "## List usage:"
   ]
  },
  {
   "cell_type": "code",
   "execution_count": 1,
   "id": "6e0c6655",
   "metadata": {},
   "outputs": [
    {
     "name": "stdout",
     "output_type": "stream",
     "text": [
      "Banana\n",
      "Blackberry\n",
      "Cherry\n"
     ]
    }
   ],
   "source": [
    "import java.util.ArrayList;\n",
    "import java.util.List;\n",
    "\n",
    "public class ListExample {\n",
    "    public static void main(String[] args) {\n",
    "        // Creating a list of strings\n",
    "        List<String> fruits = new ArrayList<>();\n",
    "\n",
    "        // Adding elements\n",
    "        fruits.add(\"Apple\");\n",
    "        fruits.add(\"Banana\");\n",
    "        fruits.add(\"Cherry\");\n",
    "\n",
    "        // Inserting an element at a specific position\n",
    "        fruits.add(1, \"Blueberry\"); // Inserts \"Blueberry\" at index 1\n",
    "\n",
    "        // Accessing elements\n",
    "        System.out.println(fruits.get(2)); // Outputs: Banana\n",
    "\n",
    "        // Replacing an element\n",
    "        fruits.set(2, \"Blackberry\"); // Replaces \"Banana\" with \"Blackberry\"\n",
    "\n",
    "        // Removing elements\n",
    "        fruits.remove(\"Apple\"); // Removes \"Apple\"\n",
    "        fruits.remove(0); // Removes the element at index 0 (\"Blueberry\")\n",
    "\n",
    "        // Iterating over the list\n",
    "        for (String fruit : fruits) {\n",
    "            System.out.println(fruit);\n",
    "        }\n",
    "    }\n",
    "}\n",
    "\n",
    "ListExample.main(null);"
   ]
  },
  {
   "cell_type": "code",
   "execution_count": 2,
   "id": "6c30fbd3",
   "metadata": {},
   "outputs": [
    {
     "name": "stdout",
     "output_type": "stream",
     "text": [
      "[0, 1, 2, 3, 4, 5, 6, 7, 8, 9]\n",
      "[0, 2, 4, 6, 8]\n"
     ]
    }
   ],
   "source": [
    "import java.util.ArrayList;\n",
    "import java.util.List;\n",
    "\n",
    "public class ArrayIntegers {\n",
    "    public static void main(String[] args) {\n",
    "        // Create and populate the list of integers\n",
    "        List<Integer> numbers = new ArrayList<>();\n",
    "        numbers.add(5);\n",
    "        numbers.add(3);\n",
    "        numbers.add(8);\n",
    "        numbers.add(1);\n",
    "        numbers.add(9);\n",
    "        numbers.add(2);\n",
    "        numbers.add(4);\n",
    "        numbers.add(7);\n",
    "        numbers.add(6);\n",
    "        numbers.add(0);\n",
    "\n",
    "        // Sort the list in numerical order\n",
    "        numbers.sort(null);\n",
    "\n",
    "        // Print the sorted list\n",
    "        System.out.println(numbers);\n",
    "\n",
    "        // remove all odd numbers in for loop\n",
    "        for (int i = 0; i < numbers.size(); i++) {\n",
    "            if (numbers.get(i) % 2 != 0) {\n",
    "                numbers.remove(i);\n",
    "                i--;\n",
    "            }\n",
    "        }\n",
    "\n",
    "        System.out.println(numbers);\n",
    "    }\n",
    "}\n",
    "\n",
    "// Call the main method\n",
    "ArrayIntegers.main(null);"
   ]
  },
  {
   "cell_type": "markdown",
   "id": "e36dcdfc",
   "metadata": {},
   "source": [
    "## Popcorn Hack 2"
   ]
  },
  {
   "cell_type": "code",
   "execution_count": 10,
   "metadata": {},
   "outputs": [
    {
     "name": "stdout",
     "output_type": "stream",
     "text": [
      "Torin's Phone Number: 6197565600\n",
      "Student Roster:\n",
      "Jenna: 6197565601\n",
      "Mason: 6197565602\n",
      "Liam: 6197565603\n",
      "Emma: 6197565604\n",
      "Torin: 6197565600\n",
      "Enter a student's name to search: \n",
      "Torin's Phone Number: 6197565600\n"
     ]
    }
   ],
   "source": [
    "import java.util.HashMap;\n",
    "import java.util.Map;\n",
    "import java.util.Scanner;\n",
    "\n",
    "public class HashMapDemo {\n",
    "    public static void main(String[] args) {\n",
    "        Map<String, String> studentMap = new HashMap<>();\n",
    "        studentMap.put(\"Torin\", \"6197565600\");\n",
    "        studentMap.put(\"Jenna\", \"6197565601\");\n",
    "        studentMap.put(\"Mason\", \"6197565602\");\n",
    "        studentMap.put(\"Liam\", \"6197565603\");\n",
    "        studentMap.put(\"Emma\", \"6197565604\");\n",
    "\n",
    "        // Retrieve value by key\n",
    "        System.out.println(\"Torin's Phone Number: \" + studentMap.get(\"Torin\"));\n",
    "\n",
    "        // Iterate using keySet()\n",
    "        System.out.println(\"Student Roster:\");\n",
    "        for (String name : studentMap.keySet()) {\n",
    "            System.out.println(name + \": \" + studentMap.get(name));\n",
    "        }\n",
    "\n",
    "        // a search function via scanner\n",
    "        Scanner scanner = new Scanner(System.in);\n",
    "        System.out.print(\"Enter a student's name to search: \");\n",
    "        System.out.println(\"\");\n",
    "        String searchName = scanner.nextLine();\n",
    "        if (studentMap.containsKey(searchName)) {\n",
    "            System.out.println(searchName + \"'s Phone Number: \" + studentMap.get(searchName));\n",
    "        } else {\n",
    "            System.out.println(\"Student not found.\");\n",
    "        }\n",
    "        scanner.close();\n",
    "    }\n",
    "}\n",
    "\n",
    "HashMapDemo.main(null);"
   ]
  },
  {
   "cell_type": "markdown",
   "id": "c6ce15f0",
   "metadata": {},
   "source": [
    "## Popcorn Hack 3:"
   ]
  },
  {
   "cell_type": "code",
   "execution_count": 17,
   "id": "903fd29e",
   "metadata": {},
   "outputs": [
    {
     "name": "stdout",
     "output_type": "stream",
     "text": [
      "First element: First\n",
      "Last element: Third\n",
      "After adding elements:\n",
      "First element: Zero\n",
      "Last element: Fourth\n",
      "After removing elements:\n",
      "First element: First\n",
      "Last element: Third\n"
     ]
    }
   ],
   "source": [
    "import java.util.ArrayDeque;\n",
    "import java.util.Deque;\n",
    "\n",
    "public class ArrayDequeFunc {\n",
    "    public static void main(String[] args) {\n",
    "        Deque<String> deque = new ArrayDeque<>();\n",
    "\n",
    "        // Adding elements\n",
    "        deque.add(\"First\");\n",
    "        deque.add(\"Second\");\n",
    "        deque.add(\"Third\");\n",
    "    \n",
    "        // Accessing elements\n",
    "        System.out.println(\"First element: \" + deque.getFirst());\n",
    "        System.out.println(\"Last element: \" + deque.getLast());\n",
    "\n",
    "        // add strings to both ends\n",
    "        deque.addFirst(\"Zero\");\n",
    "        deque.addLast(\"Fourth\");\n",
    "        System.out.println(\"After adding elements:\");\n",
    "        System.out.println(\"First element: \" + deque.getFirst());\n",
    "        System.out.println(\"Last element: \" + deque.getLast());\n",
    "\n",
    "        //remove strings from both ends\n",
    "        deque.removeFirst();\n",
    "        deque.removeLast();\n",
    "        System.out.println(\"After removing elements:\");\n",
    "        System.out.println(\"First element: \" + deque.getFirst());\n",
    "        System.out.println(\"Last element: \" + deque.getLast());\n",
    "    }\n",
    "}\n",
    "\n",
    "ArrayDequeFunc.main(null);"
   ]
  },
  {
   "cell_type": "markdown",
   "id": "99db54bc",
   "metadata": {},
   "source": [
    "## Homework Section:\n",
    "\n",
    "### Part 1: \n",
    "- Create a method named filterEvenNumbers that takes a List<Integer> as input and returns a new list containing only the even numbers (in the same order).\n",
    "\n",
    "Requirements:\n",
    "- Use ArrayList<Integer>.\n",
    "- Use methods: add(), get(), and size().\n",
    "- Use a traditional loop (do not use streams).\n",
    "- Intended Output Example:\n",
    "\n",
    "If the input list is:\n",
    "```\n",
    "[1, 2, 3, 4, 5, 6, 7, 8, 9, 10]\n",
    "```\n",
    "\n",
    "Your program should output:\n",
    "```\n",
    "Input List: [1, 2, 3, 4, 5, 6, 7, 8, 9, 10]\n",
    "Filtered Even Numbers: [2, 4, 6, 8, 10]\n",
    "```\n"
   ]
  },
  {
   "cell_type": "code",
   "execution_count": 25,
   "id": "1f20060d",
   "metadata": {},
   "outputs": [
    {
     "name": "stdout",
     "output_type": "stream",
     "text": [
      "Original list: \n",
      "1 2 3 4 5 6 7 8 9 10 \n",
      "Number of even numbers: 5\n",
      "First even number: 2\n",
      "Even numbers: [2, 4, 6, 8, 10]\n"
     ]
    }
   ],
   "source": [
    "public class filterEvenNumbers {\n",
    "    public static void main(String[] args) {\n",
    "        int[] numbers = {1, 2, 3, 4, 5, 6, 7, 8, 9, 10};\n",
    "        List<Integer> evenNumbers = new ArrayList<>();\n",
    "        System.out.println(\"Original list: \");\n",
    "        for (int number : numbers) {\n",
    "            System.out.print(number + \" \");\n",
    "        }\n",
    "        System.out.println();\n",
    "\n",
    "        // Filter even numbers\n",
    "        for (int number : numbers) {\n",
    "            if (number % 2 == 0) {\n",
    "                evenNumbers.add(number);\n",
    "            }\n",
    "        }\n",
    "\n",
    "        // utilize size and get\n",
    "        System.out.println(\"Number of even numbers: \" + evenNumbers.size());\n",
    "        System.out.println(\"First even number: \" + evenNumbers.get(0));\n",
    "        System.out.println(\"Even numbers: \" + evenNumbers);\n",
    "\n",
    "    }\n",
    "}\n",
    "\n",
    "filterEvenNumbers.main(null);"
   ]
  },
  {
   "cell_type": "markdown",
   "id": "3dd67040",
   "metadata": {},
   "source": [
    "### Part 2:\n",
    "\n",
    "Task:\n",
    "- Create a method called findIntersection that accepts two Set<String> objects and returns a new set containing only the common elements (i.e., the intersection).\n",
    "\n",
    "Requirements:\n",
    "- Use HashSet<String>.\n",
    "- Use methods: contains(), add(), and iterate through one of the sets.\n",
    "- The resulting set should naturally have no duplicates.\n",
    "- Intended Output Example:\n",
    "\n",
    "Given:\n",
    "```\n",
    "Set 1: {\"apple\", \"banana\", \"cherry\", \"date\"}\n",
    "Set 2: {\"banana\", \"date\", \"fig\", \"grape\"}\n",
    "```\n",
    "The program should output:\n",
    "```\n",
    "Set1: [apple, banana, cherry, date]\n",
    "Set2: [banana, date, fig, grape]\n",
    "Intersection: [banana, date]\n",
    "```"
   ]
  },
  {
   "cell_type": "code",
   "execution_count": 28,
   "id": "cf078227",
   "metadata": {},
   "outputs": [
    {
     "name": "stdout",
     "output_type": "stream",
     "text": [
      "Intersection: [3, 4, 5]\n"
     ]
    }
   ],
   "source": [
    "public class findIntersection {\n",
    "    public static void main(String[] args) {\n",
    "        Set<Integer> set1 = new HashSet<>();\n",
    "        Set<Integer> set2 = new HashSet<>();\n",
    "        Set<Integer> intersection = new HashSet<>();\n",
    "\n",
    "        // Populate the sets\n",
    "        set1.add(1);\n",
    "        set1.add(2);\n",
    "        set1.add(3);\n",
    "        set1.add(4);\n",
    "        set1.add(5);\n",
    "        \n",
    "        set2.add(3);\n",
    "        set2.add(4);\n",
    "        set2.add(5);\n",
    "        set2.add(6);\n",
    "        set2.add(7);\n",
    "\n",
    "        for (Integer num : set1) {\n",
    "            if (set2.contains(num)) {\n",
    "                intersection.add(num);\n",
    "            }\n",
    "        }\n",
    "\n",
    "        System.out.println(\"Intersection: \" + intersection);\n",
    "    }\n",
    "}\n",
    "\n",
    "findIntersection.main(null);"
   ]
  },
  {
   "cell_type": "markdown",
   "id": "a74c3bae",
   "metadata": {},
   "source": [
    "### Part 3:\n",
    "\n",
    "Task:\n",
    "Simulate a line of customers using a Deque<String> that behaves as both a queue and a deque. Implement the following steps:\n",
    "\n",
    "Enqueue: Add 4 customer names to the end of the deque.\n",
    "- VIP Arrival: A VIP customer arrives—add this customer to the front of the deque.\n",
    "- Process Line: Remove the customer at the front (simulate serving them).\n",
    "- Inspect Line: Display the current front and the back of the deque.\n",
    "- Size Check: Print the size of the deque (the number of customers still in line).\n",
    "- \n",
    "Requirements:\n",
    "- Use ArrayDeque<String>.\n",
    "- Utilize these methods: addLast(), addFirst(), removeFirst(), peekFirst(), peekLast(), and size().\n",
    "- Intended Output Example:\n",
    "\n",
    "Assume the following names for simulation:\n",
    "```\n",
    "Start with 4 customers added to the end: \"Alice\", \"Bob\", \"Charlie\", \"Diana\".\n",
    "Then a VIP customer, \"VIP1\", is added to the front.\n",
    "The customer at the front is then removed.\n",
    "```\n",
    "\n",
    "The program should output:\n",
    "```\n",
    "Initial line after adding 4 customers (end): [Alice, Bob, Charlie, Diana]\n",
    "After VIP arrival (added at front): [VIP1, Alice, Bob, Charlie, Diana]\n",
    "After serving the customer at the front (removed): [Alice, Bob, Charlie, Diana]\n",
    "Current front of the line: Alice\n",
    "Current back of the line: Diana\n",
    "Total number of customers waiting: 4\n",
    "```"
   ]
  },
  {
   "cell_type": "code",
   "execution_count": 33,
   "id": "e411a288",
   "metadata": {},
   "outputs": [
    {
     "name": "stdout",
     "output_type": "stream",
     "text": [
      "Initial line after adding 4 customers (end): [Alice, Bob, Charlie, Diana]\n",
      "After VIP arrival (added at front): [VIP, Alice, Bob, Charlie, Diana]\n",
      "After serving the customer at the front (removed): [Alice, Bob, Charlie, Diana]\n",
      "Current front of the line: Alice\n",
      "Current back of the line: Diana\n",
      "Total number of customers waiting: 4\n"
     ]
    }
   ],
   "source": [
    "import java.util.ArrayDeque;\n",
    "import java.util.Deque;\n",
    "\n",
    "public class DequeExample {\n",
    "    public static void main(String[] args) {\n",
    "        Deque<String> deque = new ArrayDeque<>();\n",
    "        deque.addLast(\"Alice\");\n",
    "        deque.addLast(\"Bob\");\n",
    "        deque.addLast(\"Charlie\");\n",
    "        deque.addLast(\"Diana\");\n",
    "        System.out.println(\"Initial line after adding 4 customers (end): \" + deque);\n",
    "        deque.addFirst(\"VIP\");\n",
    "        System.out.println(\"After VIP arrival (added at front): \" + deque);\n",
    "        deque.removeFirst();\n",
    "        System.out.println(\"After serving the customer at the front (removed): \" + deque);\n",
    "        System.out.println(\"Current front of the line: \" + deque.peekFirst());\n",
    "        System.out.println(\"Current back of the line: \" + deque.peekLast());\n",
    "        System.out.println(\"Total number of customers waiting: \" + deque.size());\n",
    "    }\n",
    "}\n",
    "\n",
    "DequeExample.main(null);"
   ]
  }
 ],
 "metadata": {
  "kernelspec": {
   "display_name": "Java",
   "language": "java",
   "name": "java"
  },
  "language_info": {
   "codemirror_mode": "java",
   "file_extension": ".jshell",
   "mimetype": "text/x-java-source",
   "name": "java",
   "pygments_lexer": "java",
   "version": "17.0.6+10-LTS"
  }
 },
 "nbformat": 4,
 "nbformat_minor": 5
}
