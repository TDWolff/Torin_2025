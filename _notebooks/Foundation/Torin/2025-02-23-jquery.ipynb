{
 "cells": [
  {
   "cell_type": "markdown",
   "metadata": {},
   "source": [
    "---\n",
    "layout: post\n",
    "title: CSA JQuery HW\n",
    "description: Stuff for JQuery HW\n",
    "type: issues \n",
    "comments: true\n",
    "permalink: /csa-jquery-hw/\n",
    "---"
   ]
  },
  {
   "cell_type": "markdown",
   "metadata": {},
   "source": [
    "Write in one of the comments where the selector is.\n",
    "```javascript\n",
    "$(document).ready(function(){     // \n",
    "    $(\"button\").click(function(){ // This is the selector as it selects all buttons\n",
    "      $(\"p\").hide();              //\n",
    "    });                           //\n",
    "  });                             //\n",
    "```"
   ]
  },
  {
   "cell_type": "markdown",
   "metadata": {},
   "source": [
    "-- Thyme Leaf / JQuery HW --\n",
    "\n",
    "links to hw:\n",
    "[JQuery](/Torin_2025/jquery.html)\n",
    "[Thyme Leaf](/Torin_2025/thyme-leaf.html)\n",
    "\n"
   ]
  }
 ],
 "metadata": {
  "kernelspec": {
   "display_name": "Java",
   "language": "java",
   "name": "java"
  },
  "language_info": {
   "name": "java"
  }
 },
 "nbformat": 4,
 "nbformat_minor": 2
}
