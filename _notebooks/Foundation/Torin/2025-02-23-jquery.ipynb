{
 "cells": [
  {
   "cell_type": "markdown",
   "metadata": {},
   "source": [
    "---\n",
    "layout: post\n",
    "title: CSA JQuery HW\n",
    "description: Stuff for JQuery HW\n",
    "type: issues \n",
    "comments: true\n",
    "permalink: /csa-jquery-hw/\n",
    "---"
   ]
  },
  {
   "cell_type": "markdown",
   "metadata": {},
   "source": [
    "Write in one of the comments where the selector is.\n",
    "```javascript\n",
    "$(document).ready(function(){     // \n",
    "    $(\"button\").click(function(){ // This is the selector as it selects all buttons\n",
    "      $(\"p\").hide();              //\n",
    "    });                           //\n",
    "  });                             //\n",
    "```"
   ]
  },
  {
   "cell_type": "markdown",
   "metadata": {},
   "source": [
    "-- Thyme Leaf / JQuery HW --\n",
    "\n",
    "## Question 1: jQuery - Dynamic Content Update\n",
    "Objective: Use jQuery to dynamically update a p element with user input from an input field when a button is clicked."
   ]
  },
  {
   "cell_type": "markdown",
   "metadata": {},
   "source": [
    "<!DOCTYPE html>\n",
    "<html lang=\"en\">\n",
    "<head>\n",
    "    <meta charset=\"UTF-8\">\n",
    "    <title>jQuery Update</title>\n",
    "    <script src=\"https://code.jquery.com/jquery-3.6.0.min.js\"></script>\n",
    "</head>\n",
    "<body>\n",
    "\n",
    "    <input type=\"text\" id=\"userInput\" placeholder=\"Type something...\">\n",
    "    <button id=\"updateButton\">Update</button>\n",
    "    <p id=\"outputText\">This text will change.</p>\n",
    "\n",
    "    <script>\n",
    "        $(document).ready(function() {\n",
    "            $(\"#updateButton\").click(function() {\n",
    "                $(\"#outputText\").text($(\"#userInput\").val());\n",
    "            });\n",
    "        });\n",
    "    </script>\n",
    "\n",
    "</body>\n",
    "</html>"
   ]
  }
 ],
 "metadata": {
  "kernelspec": {
   "display_name": "Java",
   "language": "java",
   "name": "java"
  },
  "language_info": {
   "name": "java"
  }
 },
 "nbformat": 4,
 "nbformat_minor": 2
}
