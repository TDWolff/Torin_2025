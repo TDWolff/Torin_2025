{
 "cells": [
  {
   "cell_type": "raw",
   "id": "6ef7605a",
   "metadata": {
    "vscode": {
     "languageId": "raw"
    }
   },
   "source": [
    "---\n",
    "layout: post\n",
    "title: CSA Collectibles\n",
    "description: collectibles\n",
    "type: issues \n",
    "comments: true\n",
    "permalink: /csa-collectibles/\n",
    "---"
   ]
  },
  {
   "cell_type": "markdown",
   "id": "daeee0db",
   "metadata": {},
   "source": [
    "# Collectibles\n",
    "\n",
    "Java collections are reusable data structures that allow devs to store, retreive, and manipulate groups of objects efficiently. (e.g, ArrayList, HashSet, HashMap)\n",
    "\n",
    "## Why use Collectibles?\n",
    "- They provide a way to store and manage groups of objects.\n",
    "- They offer built-in methods for common operations like searching, sorting, and filtering.\n",
    "- They can improve code readability and maintainability.\n",
    "\n",
    "## Types:\n",
    "1. List: An ordered collection that allows duplicates. (e.g., ArrayList, LinkedList)\n",
    "2. Set: An unordered collection that does not allow duplicates. (e.g., HashSet, TreeSet)\n",
    "3. Map: A collection of key-value pairs. (e.g., HashMap, TreeMap)\n",
    "4. Queue: A collection that follows the FIFO (First In First Out) principle. (e.g., LinkedList, PriorityQueue)\n",
    "5. Stack: A collection that follows the LIFO (Last In First Out) principle. (e.g., Stack, ArrayDeque)\n",
    "6. Deque: A double-ended queue that allows insertion and removal from both ends. (e.g., ArrayDeque, LinkedList)\n",
    "\n",
    "## List usage:"
   ]
  },
  {
   "cell_type": "code",
   "execution_count": 1,
   "id": "6e0c6655",
   "metadata": {
    "vscode": {
     "languageId": "java"
    }
   },
   "outputs": [
    {
     "name": "stdout",
     "output_type": "stream",
     "text": [
      "Banana\n",
      "Blackberry\n",
      "Cherry\n"
     ]
    }
   ],
   "source": [
    "import java.util.ArrayList;\n",
    "import java.util.List;\n",
    "\n",
    "public class ListExample {\n",
    "    public static void main(String[] args) {\n",
    "        // Creating a list of strings\n",
    "        List<String> fruits = new ArrayList<>();\n",
    "\n",
    "        // Adding elements\n",
    "        fruits.add(\"Apple\");\n",
    "        fruits.add(\"Banana\");\n",
    "        fruits.add(\"Cherry\");\n",
    "\n",
    "        // Inserting an element at a specific position\n",
    "        fruits.add(1, \"Blueberry\"); // Inserts \"Blueberry\" at index 1\n",
    "\n",
    "        // Accessing elements\n",
    "        System.out.println(fruits.get(2)); // Outputs: Banana\n",
    "\n",
    "        // Replacing an element\n",
    "        fruits.set(2, \"Blackberry\"); // Replaces \"Banana\" with \"Blackberry\"\n",
    "\n",
    "        // Removing elements\n",
    "        fruits.remove(\"Apple\"); // Removes \"Apple\"\n",
    "        fruits.remove(0); // Removes the element at index 0 (\"Blueberry\")\n",
    "\n",
    "        // Iterating over the list\n",
    "        for (String fruit : fruits) {\n",
    "            System.out.println(fruit);\n",
    "        }\n",
    "    }\n",
    "}\n",
    "\n",
    "ListExample.main(null);"
   ]
  },
  {
   "cell_type": "code",
   "execution_count": null,
   "id": "6c30fbd3",
   "metadata": {},
   "outputs": [],
   "source": []
  }
 ],
 "metadata": {
  "kernelspec": {
   "display_name": "Java",
   "language": "java",
   "name": "java"
  },
  "language_info": {
   "codemirror_mode": "java",
   "file_extension": ".jshell",
   "mimetype": "text/x-java-source",
   "name": "Java",
   "pygments_lexer": "java",
   "version": "17.0.6+10-LTS"
  }
 },
 "nbformat": 4,
 "nbformat_minor": 5
}
