{
 "cells": [
  {
   "cell_type": "raw",
   "id": "9d169a2c",
   "metadata": {},
   "source": [
    "---\n",
    "layout: post\n",
    "title: CSA Collectibles\n",
    "description: collectibles\n",
    "type: issues \n",
    "comments: true\n",
    "permalink: /csa-collectibles/\n",
    "---"
   ]
  },
  {
   "cell_type": "markdown",
   "id": "79711b36",
   "metadata": {
    "vscode": {
     "languageId": "java"
    }
   },
   "source": [
    "# Part A)"
   ]
  },
  {
   "cell_type": "code",
   "execution_count": null,
   "id": "38dc2ac4",
   "metadata": {
    "vscode": {
     "languageId": "java"
    }
   },
   "outputs": [],
   "source": [
    "public static int arraySum(int[] arr) {\n",
    "    int result = 0;\n",
    "    for(int i = 0; i < arr.length; i++)\n",
    "    {\n",
    "        result += arr[i];\n",
    "    }\n",
    "    return result;\n",
    "}\n",
    "\n",
    "int[] array = {1, 2, 3, 4, 5};\n",
    "System.out.println(arraySum(array));"
   ]
  },
  {
   "cell_type": "markdown",
   "id": "84d1e1a7",
   "metadata": {},
   "source": [
    "Output: 15"
   ]
  },
  {
   "cell_type": "markdown",
   "id": "9e286e60",
   "metadata": {},
   "source": [
    "# Part B)"
   ]
  },
  {
   "cell_type": "code",
   "execution_count": null,
   "id": "33618f47",
   "metadata": {
    "vscode": {
     "languageId": "java"
    }
   },
   "outputs": [],
   "source": [
    "public static int arraySum(int[] arr) {\n",
    "    int result = 0;\n",
    "    for(int i = 0; i < arr.length; i++)\n",
    "    {\n",
    "        result += arr[i];\n",
    "    }\n",
    "    return result;\n",
    "}\n",
    "\n",
    "public static int[] array2DSum(int[][] arr2d) {\n",
    "    int[] sum = new int[arr2d.length];\n",
    "    for(int r = 0; r < arr2d.length; r++) {\n",
    "        sum[r] += arraySum(arr2d[r]);\n",
    "    }\n",
    "    return sum;\n",
    "}\n",
    "\n",
    "int[][] arr2d = {\n",
    "    {1, 3, 3, 7, 3},\n",
    "    {10, 10, 4, 6, 2},\n",
    "    {5, 3, 5, 9, 6},\n",
    "    {7, 6, 4, 2, 1}\n",
    "};\n",
    "int[] result = array2DSum(arr2d);\n",
    "System.out.println(Arrays.toString(result));"
   ]
  },
  {
   "cell_type": "markdown",
   "id": "58806d0d",
   "metadata": {
    "vscode": {
     "languageId": "java"
    }
   },
   "source": [
    "# Part C)"
   ]
  },
  {
   "cell_type": "code",
   "execution_count": null,
   "id": "1cf1ea89",
   "metadata": {
    "vscode": {
     "languageId": "java"
    }
   },
   "outputs": [],
   "source": [
    "public static int arraySum(int[] arr) {\n",
    "    int result = 0;\n",
    "    for(int i = 0; i < arr.length; i++)\n",
    "    {\n",
    "        result += arr[i];\n",
    "    }\n",
    "    return result;\n",
    "}\n",
    "\n",
    "public static int[] array2DSum(int[][] arr2d) {\n",
    "    int[] sum = new int[arr2d.length];\n",
    "    for(int r = 0; r < arr2d.length; r++) {\n",
    "        sum[r] += arraySum(arr2d[r]);\n",
    "    }\n",
    "    return sum;\n",
    "}\n",
    "\n",
    "public static boolean isDiverse(int[][] arr2d) {\n",
    "    int[] sumRow = array2DSum(arr2d);\n",
    "    for(int i = 0; i < sumRow.length; i++) {\n",
    "        for(int j = i + 1; j < sumRow.length; j++) {\n",
    "            if(sumRow[i] == sumRow[j]) {\n",
    "                return false;\n",
    "            }\n",
    "        }\n",
    "    }\n",
    "    return true;\n",
    "}\n",
    "\n",
    "int[][] arr2d = {\n",
    "    {1, 3, 3, 7, 3},\n",
    "    {10, 10, 4, 6, 2},\n",
    "    {5, 3, 5, 9, 6},\n",
    "    {7, 6, 4, 2, 1}\n",
    "};\n",
    "System.out.println(isDiverse(arr2d));"
   ]
  },
  {
   "cell_type": "markdown",
   "id": "4e44a0fe",
   "metadata": {},
   "source": [
    "Final code"
   ]
  },
  {
   "cell_type": "code",
   "execution_count": null,
   "id": "c48502be",
   "metadata": {
    "vscode": {
     "languageId": "java"
    }
   },
   "outputs": [],
   "source": [
    "public static int arraySum(int[] arr) {\n",
    "    int result = 0;\n",
    "    for(int i = 0; i < arr.length; i++)\n",
    "    {\n",
    "        result += arr[i];\n",
    "    }\n",
    "    return result;\n",
    "}\n",
    "\n",
    "public static int[] array2DSum(int[][] arr2d) {\n",
    "    int[] sum = new int[arr2d.length];\n",
    "    for(int r = 0; r < arr2d.length; r++) {\n",
    "        sum[r] += arraySum(arr2d[r]);\n",
    "    }\n",
    "    return sum;\n",
    "}\n",
    "\n",
    "public static boolean isDiverse(int[][] arr2d) {\n",
    "    int[] sumRow = array2DSum(arr2d);\n",
    "    for(int i = 0; i < sumRow.length; i++) {\n",
    "        for(int j = i + 1; j < sumRow.length; j++) {\n",
    "            if(sumRow[i] == sumRow[j]) {\n",
    "                return false;\n",
    "            }\n",
    "        }\n",
    "    }\n",
    "    return true;\n",
    "}\n",
    "\n",
    "int[][] arr2d = {\n",
    "    {1, 3, 3, 7, 3},\n",
    "    {10, 10, 4, 6, 2},\n",
    "    {5, 3, 5, 9, 6},\n",
    "    {7, 6, 4, 2, 1}\n",
    "};\n",
    "System.out.println(arraySum(array));\n",
    "int[] result = array2DSum(arr2d);\n",
    "System.out.println(Arrays.toString(result));\n",
    "System.out.println(isDiverse(arr2d));"
   ]
  }
 ],
 "metadata": {
  "language_info": {
   "name": "python"
  }
 },
 "nbformat": 4,
 "nbformat_minor": 5
}
